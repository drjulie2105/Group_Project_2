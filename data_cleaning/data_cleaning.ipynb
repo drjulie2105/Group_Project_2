{
 "metadata": {
  "language_info": {
   "codemirror_mode": {
    "name": "ipython",
    "version": 3
   },
   "file_extension": ".py",
   "mimetype": "text/x-python",
   "name": "python",
   "nbconvert_exporter": "python",
   "pygments_lexer": "ipython3",
   "version": "3.8.3-final"
  },
  "orig_nbformat": 2,
  "kernelspec": {
   "name": "python3",
   "display_name": "Python 3"
  }
 },
 "nbformat": 4,
 "nbformat_minor": 2,
 "cells": [
  {
   "cell_type": "code",
   "execution_count": 25,
   "metadata": {},
   "outputs": [],
   "source": [
    "import pandas as pd \n",
    "import os"
   ]
  },
  {
   "cell_type": "code",
   "execution_count": null,
   "metadata": {},
   "outputs": [],
   "source": [
    "#Segun imports dependancies \n"
   ]
  },
  {
   "cell_type": "code",
   "execution_count": null,
   "metadata": {},
   "outputs": [],
   "source": [
    "#Segun adds db connection here "
   ]
  },
  {
   "cell_type": "code",
   "execution_count": 27,
   "metadata": {},
   "outputs": [
    {
     "output_type": "execute_result",
     "data": {
      "text/plain": [
       "   year    state state_po  state_fips  state_cen  state_ic        office  \\\n",
       "0  1976  Alabama       AL           1         63        41  US President   \n",
       "1  1976  Alabama       AL           1         63        41  US President   \n",
       "2  1976  Alabama       AL           1         63        41  US President   \n",
       "3  1976  Alabama       AL           1         63        41  US President   \n",
       "4  1976  Alabama       AL           1         63        41  US President   \n",
       "\n",
       "                 candidate                       party  writein  \\\n",
       "0            Carter, Jimmy                    democrat    False   \n",
       "1             Ford, Gerald                  republican    False   \n",
       "2           Maddox, Lester  american independent party    False   \n",
       "3  Bubar, Benjamin \"\"Ben\"\"                 prohibition    False   \n",
       "4                Hall, Gus         communist party use    False   \n",
       "\n",
       "   candidatevotes  totalvotes   version  notes  \n",
       "0          659170     1182850  20171015    NaN  \n",
       "1          504070     1182850  20171015    NaN  \n",
       "2            9198     1182850  20171015    NaN  \n",
       "3            6669     1182850  20171015    NaN  \n",
       "4            1954     1182850  20171015    NaN  "
      ],
      "text/html": "<div>\n<style scoped>\n    .dataframe tbody tr th:only-of-type {\n        vertical-align: middle;\n    }\n\n    .dataframe tbody tr th {\n        vertical-align: top;\n    }\n\n    .dataframe thead th {\n        text-align: right;\n    }\n</style>\n<table border=\"1\" class=\"dataframe\">\n  <thead>\n    <tr style=\"text-align: right;\">\n      <th></th>\n      <th>year</th>\n      <th>state</th>\n      <th>state_po</th>\n      <th>state_fips</th>\n      <th>state_cen</th>\n      <th>state_ic</th>\n      <th>office</th>\n      <th>candidate</th>\n      <th>party</th>\n      <th>writein</th>\n      <th>candidatevotes</th>\n      <th>totalvotes</th>\n      <th>version</th>\n      <th>notes</th>\n    </tr>\n  </thead>\n  <tbody>\n    <tr>\n      <th>0</th>\n      <td>1976</td>\n      <td>Alabama</td>\n      <td>AL</td>\n      <td>1</td>\n      <td>63</td>\n      <td>41</td>\n      <td>US President</td>\n      <td>Carter, Jimmy</td>\n      <td>democrat</td>\n      <td>False</td>\n      <td>659170</td>\n      <td>1182850</td>\n      <td>20171015</td>\n      <td>NaN</td>\n    </tr>\n    <tr>\n      <th>1</th>\n      <td>1976</td>\n      <td>Alabama</td>\n      <td>AL</td>\n      <td>1</td>\n      <td>63</td>\n      <td>41</td>\n      <td>US President</td>\n      <td>Ford, Gerald</td>\n      <td>republican</td>\n      <td>False</td>\n      <td>504070</td>\n      <td>1182850</td>\n      <td>20171015</td>\n      <td>NaN</td>\n    </tr>\n    <tr>\n      <th>2</th>\n      <td>1976</td>\n      <td>Alabama</td>\n      <td>AL</td>\n      <td>1</td>\n      <td>63</td>\n      <td>41</td>\n      <td>US President</td>\n      <td>Maddox, Lester</td>\n      <td>american independent party</td>\n      <td>False</td>\n      <td>9198</td>\n      <td>1182850</td>\n      <td>20171015</td>\n      <td>NaN</td>\n    </tr>\n    <tr>\n      <th>3</th>\n      <td>1976</td>\n      <td>Alabama</td>\n      <td>AL</td>\n      <td>1</td>\n      <td>63</td>\n      <td>41</td>\n      <td>US President</td>\n      <td>Bubar, Benjamin \"\"Ben\"\"</td>\n      <td>prohibition</td>\n      <td>False</td>\n      <td>6669</td>\n      <td>1182850</td>\n      <td>20171015</td>\n      <td>NaN</td>\n    </tr>\n    <tr>\n      <th>4</th>\n      <td>1976</td>\n      <td>Alabama</td>\n      <td>AL</td>\n      <td>1</td>\n      <td>63</td>\n      <td>41</td>\n      <td>US President</td>\n      <td>Hall, Gus</td>\n      <td>communist party use</td>\n      <td>False</td>\n      <td>1954</td>\n      <td>1182850</td>\n      <td>20171015</td>\n      <td>NaN</td>\n    </tr>\n  </tbody>\n</table>\n</div>"
     },
     "metadata": {},
     "execution_count": 27
    }
   ],
   "source": [
    "#jz work begins \n",
    "file_to_load = \"..\\data\\president.csv\"\n",
    "election_r = pd.read_csv(file_to_load)\n",
    "election_r.head()"
   ]
  },
  {
   "cell_type": "code",
   "execution_count": 112,
   "metadata": {},
   "outputs": [],
   "source": [
    "election_df = election_r.drop(['state_fips','state_cen','state_ic','office','version','notes'],axis=1)\n",
    "election_df = election_df.dropna(subset=['candidate'])\n",
    "election2000_df = election_df[election_df.year == 2000]\n",
    "Republican2000_df = election2000_df[election2000_df.party == 'republican']\n",
    "Democrat2000_df = election2000_df[election2000_df.party == 'democrat']\n",
    "\n",
    "\n",
    "election2004_df = election_df[election_df.year == 2004]\n",
    "Democrat2004_df = election2004_df[election2004_df.party == 'democrat']\n",
    "Republican2004_df = election2004_df[election2004_df.party == 'republican']\n",
    "\n",
    "\n",
    "election2008_df = election_df[election_df.year == 2008]\n",
    "Democrat2008_df = election2008_df[election2008_df.party == 'democrat']\n",
    "Republican2008_df = election2008_df[election2008_df.party == 'republican']\n",
    "\n",
    "election2012_df = election_df[election_df.year == 2012]\n",
    "Democrat2012_df = election2012_df[election2012_df.party == 'democrat']\n",
    "Republican2012_df = election2012_df[election2012_df.party == 'republican']\n",
    "\n",
    "election2016_df = election_df[election_df.year == 2016]\n",
    "Republican2016_df = election2016_df[election2016_df.party == 'republican']\n",
    "Democrat2016_df = election2016_df[election2016_df.party == 'democrat']\n",
    "\n"
   ]
  },
  {
   "cell_type": "code",
   "execution_count": 113,
   "metadata": {},
   "outputs": [
    {
     "output_type": "execute_result",
     "data": {
      "text/plain": [
       "      year                 state state_po         candidate     party  \\\n",
       "3396  2016               Alabama       AL  Clinton, Hillary  democrat   \n",
       "3401  2016                Alaska       AK  Clinton, Hillary  democrat   \n",
       "3408  2016               Arizona       AZ  Clinton, Hillary  democrat   \n",
       "3418  2016              Arkansas       AR  Clinton, Hillary  democrat   \n",
       "3425  2016            California       CA  Clinton, Hillary  democrat   \n",
       "3431  2016              Colorado       CO  Clinton, Hillary  democrat   \n",
       "3451  2016           Connecticut       CT  Clinton, Hillary  democrat   \n",
       "3456  2016              Delaware       DE  Clinton, Hillary  democrat   \n",
       "3460  2016  District of Columbia       DC  Clinton, Hillary  democrat   \n",
       "3468  2016               Florida       FL  Clinton, Hillary  democrat   \n",
       "3475  2016               Georgia       GA  Clinton, Hillary  democrat   \n",
       "3478  2016                Hawaii       HI  Clinton, Hillary  democrat   \n",
       "3486  2016                 Idaho       ID  Clinton, Hillary  democrat   \n",
       "3490  2016              Illinois       IL  Clinton, Hillary  democrat   \n",
       "3496  2016               Indiana       IN  Clinton, Hillary  democrat   \n",
       "3503  2016                  Iowa       IA  Clinton, Hillary  democrat   \n",
       "3513  2016                Kansas       KS  Clinton, Hillary  democrat   \n",
       "3518  2016              Kentucky       KY  Clinton, Hillary  democrat   \n",
       "3525  2016             Louisiana       LA  Clinton, Hillary  democrat   \n",
       "3529  2016                 Maine       ME  Clinton, Hillary  democrat   \n",
       "3535  2016              Maryland       MD  Clinton, Hillary  democrat   \n",
       "3543  2016              Maryland       MD  Clinton, Hillary  democrat   \n",
       "3544  2016         Massachusetts       MA  Clinton, Hillary  democrat   \n",
       "3552  2016              Michigan       MI  Clinton, Hillary  democrat   \n",
       "3558  2016             Minnesota       MN  Clinton, Hillary  democrat   \n",
       "3569  2016           Mississippi       MS  Clinton, Hillary  democrat   \n",
       "3576  2016              Missouri       MO  Clinton, Hillary  democrat   \n",
       "3582  2016               Montana       MT  Clinton, Hillary  democrat   \n",
       "3587  2016              Nebraska       NE  Clinton, Hillary  democrat   \n",
       "3591  2016                Nevada       NV  Clinton, Hillary  democrat   \n",
       "3597  2016         New Hampshire       NH  Clinton, Hillary  democrat   \n",
       "3604  2016            New Jersey       NJ  Clinton, Hillary  democrat   \n",
       "3613  2016            New Mexico       NM  Clinton, Hillary  democrat   \n",
       "3621  2016              New York       NY  Clinton, Hillary  democrat   \n",
       "3634  2016        North Carolina       NC  Clinton, Hillary  democrat   \n",
       "3639  2016          North Dakota       ND  Clinton, Hillary  democrat   \n",
       "3646  2016                  Ohio       OH  Clinton, Hillary  democrat   \n",
       "3651  2016              Oklahoma       OK  Clinton, Hillary  democrat   \n",
       "3653  2016                Oregon       OR  Clinton, Hillary  democrat   \n",
       "3659  2016          Pennsylvania       PA  Clinton, Hillary  democrat   \n",
       "3663  2016          Rhode Island       RI  Clinton, Hillary  democrat   \n",
       "3670  2016        South Carolina       SC  Clinton, Hillary  democrat   \n",
       "3677  2016          South Dakota       SD  Clinton, Hillary  democrat   \n",
       "3681  2016             Tennessee       TN  Clinton, Hillary  democrat   \n",
       "3685  2016                 Texas       TX  Clinton, Hillary  democrat   \n",
       "3690  2016                  Utah       UT  Clinton, Hillary  democrat   \n",
       "3695  2016               Vermont       VT  Clinton, Hillary  democrat   \n",
       "3704  2016              Virginia       VA  Clinton, Hillary  democrat   \n",
       "3710  2016            Washington       WA  Clinton, Hillary  democrat   \n",
       "3719  2016         West Virginia       WV  Clinton, Hillary  democrat   \n",
       "3724  2016             Wisconsin       WI  Clinton, Hillary  democrat   \n",
       "3733  2016               Wyoming       WY  Clinton, Hillary  democrat   \n",
       "\n",
       "      writein  candidatevotes  totalvotes  \n",
       "3396    False          729547     2123372  \n",
       "3401    False          116454      318608  \n",
       "3408    False         1161167     2573165  \n",
       "3418    False          380494     1130635  \n",
       "3425    False         8753788    14181595  \n",
       "3431    False         1338870     2780220  \n",
       "3451    False          897572     1644920  \n",
       "3456    False          235603      441590  \n",
       "3460    False          282830      312575  \n",
       "3468    False         4504975     9420039  \n",
       "3475    False         1877963     4114732  \n",
       "3478    False          266891      437664  \n",
       "3486    False          189765      690255  \n",
       "3490    False         3090729     5536424  \n",
       "3496    False         1033126     2734958  \n",
       "3503    False          653669     1565580  \n",
       "3513    False          427005     1184402  \n",
       "3518    False          628854     1924149  \n",
       "3525    False          780154     2029032  \n",
       "3529    False          357735      771892  \n",
       "3535    False         1677928     2781446  \n",
       "3543     True              78     2781446  \n",
       "3544    False         1995196     3378821  \n",
       "3552    False         2268839     4799284  \n",
       "3558    False         1367705     2944782  \n",
       "3569    False          485131     1209357  \n",
       "3576    False         1071068     2808605  \n",
       "3582    False          177709      494526  \n",
       "3587    False          284494      844227  \n",
       "3591    False          539260     1125385  \n",
       "3597    False          348526      744296  \n",
       "3604    False         2148278     3874046  \n",
       "3613    False          385234      798319  \n",
       "3621    False         4379789     7802084  \n",
       "3634    False         2189316     4741564  \n",
       "3639    False           93758      344360  \n",
       "3646    False         2394164     5496487  \n",
       "3651    False          420375     1452992  \n",
       "3653    False         1002106     2001336  \n",
       "3659    False         2926441     6115402  \n",
       "3663    False          252525      464144  \n",
       "3670    False          855373     2103027  \n",
       "3677    False          117458      370093  \n",
       "3681    False          870695     2508027  \n",
       "3685    False         3877868     8969226  \n",
       "3690    False          310674     1131317  \n",
       "3695    False          178573      320467  \n",
       "3704    False         1981473     3982752  \n",
       "3710    False         1742718     3317019  \n",
       "3719    False          188794      713051  \n",
       "3724    False         1382536     2976150  \n",
       "3733    False           55973      258788  "
      ],
      "text/html": "<div>\n<style scoped>\n    .dataframe tbody tr th:only-of-type {\n        vertical-align: middle;\n    }\n\n    .dataframe tbody tr th {\n        vertical-align: top;\n    }\n\n    .dataframe thead th {\n        text-align: right;\n    }\n</style>\n<table border=\"1\" class=\"dataframe\">\n  <thead>\n    <tr style=\"text-align: right;\">\n      <th></th>\n      <th>year</th>\n      <th>state</th>\n      <th>state_po</th>\n      <th>candidate</th>\n      <th>party</th>\n      <th>writein</th>\n      <th>candidatevotes</th>\n      <th>totalvotes</th>\n    </tr>\n  </thead>\n  <tbody>\n    <tr>\n      <th>3396</th>\n      <td>2016</td>\n      <td>Alabama</td>\n      <td>AL</td>\n      <td>Clinton, Hillary</td>\n      <td>democrat</td>\n      <td>False</td>\n      <td>729547</td>\n      <td>2123372</td>\n    </tr>\n    <tr>\n      <th>3401</th>\n      <td>2016</td>\n      <td>Alaska</td>\n      <td>AK</td>\n      <td>Clinton, Hillary</td>\n      <td>democrat</td>\n      <td>False</td>\n      <td>116454</td>\n      <td>318608</td>\n    </tr>\n    <tr>\n      <th>3408</th>\n      <td>2016</td>\n      <td>Arizona</td>\n      <td>AZ</td>\n      <td>Clinton, Hillary</td>\n      <td>democrat</td>\n      <td>False</td>\n      <td>1161167</td>\n      <td>2573165</td>\n    </tr>\n    <tr>\n      <th>3418</th>\n      <td>2016</td>\n      <td>Arkansas</td>\n      <td>AR</td>\n      <td>Clinton, Hillary</td>\n      <td>democrat</td>\n      <td>False</td>\n      <td>380494</td>\n      <td>1130635</td>\n    </tr>\n    <tr>\n      <th>3425</th>\n      <td>2016</td>\n      <td>California</td>\n      <td>CA</td>\n      <td>Clinton, Hillary</td>\n      <td>democrat</td>\n      <td>False</td>\n      <td>8753788</td>\n      <td>14181595</td>\n    </tr>\n    <tr>\n      <th>3431</th>\n      <td>2016</td>\n      <td>Colorado</td>\n      <td>CO</td>\n      <td>Clinton, Hillary</td>\n      <td>democrat</td>\n      <td>False</td>\n      <td>1338870</td>\n      <td>2780220</td>\n    </tr>\n    <tr>\n      <th>3451</th>\n      <td>2016</td>\n      <td>Connecticut</td>\n      <td>CT</td>\n      <td>Clinton, Hillary</td>\n      <td>democrat</td>\n      <td>False</td>\n      <td>897572</td>\n      <td>1644920</td>\n    </tr>\n    <tr>\n      <th>3456</th>\n      <td>2016</td>\n      <td>Delaware</td>\n      <td>DE</td>\n      <td>Clinton, Hillary</td>\n      <td>democrat</td>\n      <td>False</td>\n      <td>235603</td>\n      <td>441590</td>\n    </tr>\n    <tr>\n      <th>3460</th>\n      <td>2016</td>\n      <td>District of Columbia</td>\n      <td>DC</td>\n      <td>Clinton, Hillary</td>\n      <td>democrat</td>\n      <td>False</td>\n      <td>282830</td>\n      <td>312575</td>\n    </tr>\n    <tr>\n      <th>3468</th>\n      <td>2016</td>\n      <td>Florida</td>\n      <td>FL</td>\n      <td>Clinton, Hillary</td>\n      <td>democrat</td>\n      <td>False</td>\n      <td>4504975</td>\n      <td>9420039</td>\n    </tr>\n    <tr>\n      <th>3475</th>\n      <td>2016</td>\n      <td>Georgia</td>\n      <td>GA</td>\n      <td>Clinton, Hillary</td>\n      <td>democrat</td>\n      <td>False</td>\n      <td>1877963</td>\n      <td>4114732</td>\n    </tr>\n    <tr>\n      <th>3478</th>\n      <td>2016</td>\n      <td>Hawaii</td>\n      <td>HI</td>\n      <td>Clinton, Hillary</td>\n      <td>democrat</td>\n      <td>False</td>\n      <td>266891</td>\n      <td>437664</td>\n    </tr>\n    <tr>\n      <th>3486</th>\n      <td>2016</td>\n      <td>Idaho</td>\n      <td>ID</td>\n      <td>Clinton, Hillary</td>\n      <td>democrat</td>\n      <td>False</td>\n      <td>189765</td>\n      <td>690255</td>\n    </tr>\n    <tr>\n      <th>3490</th>\n      <td>2016</td>\n      <td>Illinois</td>\n      <td>IL</td>\n      <td>Clinton, Hillary</td>\n      <td>democrat</td>\n      <td>False</td>\n      <td>3090729</td>\n      <td>5536424</td>\n    </tr>\n    <tr>\n      <th>3496</th>\n      <td>2016</td>\n      <td>Indiana</td>\n      <td>IN</td>\n      <td>Clinton, Hillary</td>\n      <td>democrat</td>\n      <td>False</td>\n      <td>1033126</td>\n      <td>2734958</td>\n    </tr>\n    <tr>\n      <th>3503</th>\n      <td>2016</td>\n      <td>Iowa</td>\n      <td>IA</td>\n      <td>Clinton, Hillary</td>\n      <td>democrat</td>\n      <td>False</td>\n      <td>653669</td>\n      <td>1565580</td>\n    </tr>\n    <tr>\n      <th>3513</th>\n      <td>2016</td>\n      <td>Kansas</td>\n      <td>KS</td>\n      <td>Clinton, Hillary</td>\n      <td>democrat</td>\n      <td>False</td>\n      <td>427005</td>\n      <td>1184402</td>\n    </tr>\n    <tr>\n      <th>3518</th>\n      <td>2016</td>\n      <td>Kentucky</td>\n      <td>KY</td>\n      <td>Clinton, Hillary</td>\n      <td>democrat</td>\n      <td>False</td>\n      <td>628854</td>\n      <td>1924149</td>\n    </tr>\n    <tr>\n      <th>3525</th>\n      <td>2016</td>\n      <td>Louisiana</td>\n      <td>LA</td>\n      <td>Clinton, Hillary</td>\n      <td>democrat</td>\n      <td>False</td>\n      <td>780154</td>\n      <td>2029032</td>\n    </tr>\n    <tr>\n      <th>3529</th>\n      <td>2016</td>\n      <td>Maine</td>\n      <td>ME</td>\n      <td>Clinton, Hillary</td>\n      <td>democrat</td>\n      <td>False</td>\n      <td>357735</td>\n      <td>771892</td>\n    </tr>\n    <tr>\n      <th>3535</th>\n      <td>2016</td>\n      <td>Maryland</td>\n      <td>MD</td>\n      <td>Clinton, Hillary</td>\n      <td>democrat</td>\n      <td>False</td>\n      <td>1677928</td>\n      <td>2781446</td>\n    </tr>\n    <tr>\n      <th>3543</th>\n      <td>2016</td>\n      <td>Maryland</td>\n      <td>MD</td>\n      <td>Clinton, Hillary</td>\n      <td>democrat</td>\n      <td>True</td>\n      <td>78</td>\n      <td>2781446</td>\n    </tr>\n    <tr>\n      <th>3544</th>\n      <td>2016</td>\n      <td>Massachusetts</td>\n      <td>MA</td>\n      <td>Clinton, Hillary</td>\n      <td>democrat</td>\n      <td>False</td>\n      <td>1995196</td>\n      <td>3378821</td>\n    </tr>\n    <tr>\n      <th>3552</th>\n      <td>2016</td>\n      <td>Michigan</td>\n      <td>MI</td>\n      <td>Clinton, Hillary</td>\n      <td>democrat</td>\n      <td>False</td>\n      <td>2268839</td>\n      <td>4799284</td>\n    </tr>\n    <tr>\n      <th>3558</th>\n      <td>2016</td>\n      <td>Minnesota</td>\n      <td>MN</td>\n      <td>Clinton, Hillary</td>\n      <td>democrat</td>\n      <td>False</td>\n      <td>1367705</td>\n      <td>2944782</td>\n    </tr>\n    <tr>\n      <th>3569</th>\n      <td>2016</td>\n      <td>Mississippi</td>\n      <td>MS</td>\n      <td>Clinton, Hillary</td>\n      <td>democrat</td>\n      <td>False</td>\n      <td>485131</td>\n      <td>1209357</td>\n    </tr>\n    <tr>\n      <th>3576</th>\n      <td>2016</td>\n      <td>Missouri</td>\n      <td>MO</td>\n      <td>Clinton, Hillary</td>\n      <td>democrat</td>\n      <td>False</td>\n      <td>1071068</td>\n      <td>2808605</td>\n    </tr>\n    <tr>\n      <th>3582</th>\n      <td>2016</td>\n      <td>Montana</td>\n      <td>MT</td>\n      <td>Clinton, Hillary</td>\n      <td>democrat</td>\n      <td>False</td>\n      <td>177709</td>\n      <td>494526</td>\n    </tr>\n    <tr>\n      <th>3587</th>\n      <td>2016</td>\n      <td>Nebraska</td>\n      <td>NE</td>\n      <td>Clinton, Hillary</td>\n      <td>democrat</td>\n      <td>False</td>\n      <td>284494</td>\n      <td>844227</td>\n    </tr>\n    <tr>\n      <th>3591</th>\n      <td>2016</td>\n      <td>Nevada</td>\n      <td>NV</td>\n      <td>Clinton, Hillary</td>\n      <td>democrat</td>\n      <td>False</td>\n      <td>539260</td>\n      <td>1125385</td>\n    </tr>\n    <tr>\n      <th>3597</th>\n      <td>2016</td>\n      <td>New Hampshire</td>\n      <td>NH</td>\n      <td>Clinton, Hillary</td>\n      <td>democrat</td>\n      <td>False</td>\n      <td>348526</td>\n      <td>744296</td>\n    </tr>\n    <tr>\n      <th>3604</th>\n      <td>2016</td>\n      <td>New Jersey</td>\n      <td>NJ</td>\n      <td>Clinton, Hillary</td>\n      <td>democrat</td>\n      <td>False</td>\n      <td>2148278</td>\n      <td>3874046</td>\n    </tr>\n    <tr>\n      <th>3613</th>\n      <td>2016</td>\n      <td>New Mexico</td>\n      <td>NM</td>\n      <td>Clinton, Hillary</td>\n      <td>democrat</td>\n      <td>False</td>\n      <td>385234</td>\n      <td>798319</td>\n    </tr>\n    <tr>\n      <th>3621</th>\n      <td>2016</td>\n      <td>New York</td>\n      <td>NY</td>\n      <td>Clinton, Hillary</td>\n      <td>democrat</td>\n      <td>False</td>\n      <td>4379789</td>\n      <td>7802084</td>\n    </tr>\n    <tr>\n      <th>3634</th>\n      <td>2016</td>\n      <td>North Carolina</td>\n      <td>NC</td>\n      <td>Clinton, Hillary</td>\n      <td>democrat</td>\n      <td>False</td>\n      <td>2189316</td>\n      <td>4741564</td>\n    </tr>\n    <tr>\n      <th>3639</th>\n      <td>2016</td>\n      <td>North Dakota</td>\n      <td>ND</td>\n      <td>Clinton, Hillary</td>\n      <td>democrat</td>\n      <td>False</td>\n      <td>93758</td>\n      <td>344360</td>\n    </tr>\n    <tr>\n      <th>3646</th>\n      <td>2016</td>\n      <td>Ohio</td>\n      <td>OH</td>\n      <td>Clinton, Hillary</td>\n      <td>democrat</td>\n      <td>False</td>\n      <td>2394164</td>\n      <td>5496487</td>\n    </tr>\n    <tr>\n      <th>3651</th>\n      <td>2016</td>\n      <td>Oklahoma</td>\n      <td>OK</td>\n      <td>Clinton, Hillary</td>\n      <td>democrat</td>\n      <td>False</td>\n      <td>420375</td>\n      <td>1452992</td>\n    </tr>\n    <tr>\n      <th>3653</th>\n      <td>2016</td>\n      <td>Oregon</td>\n      <td>OR</td>\n      <td>Clinton, Hillary</td>\n      <td>democrat</td>\n      <td>False</td>\n      <td>1002106</td>\n      <td>2001336</td>\n    </tr>\n    <tr>\n      <th>3659</th>\n      <td>2016</td>\n      <td>Pennsylvania</td>\n      <td>PA</td>\n      <td>Clinton, Hillary</td>\n      <td>democrat</td>\n      <td>False</td>\n      <td>2926441</td>\n      <td>6115402</td>\n    </tr>\n    <tr>\n      <th>3663</th>\n      <td>2016</td>\n      <td>Rhode Island</td>\n      <td>RI</td>\n      <td>Clinton, Hillary</td>\n      <td>democrat</td>\n      <td>False</td>\n      <td>252525</td>\n      <td>464144</td>\n    </tr>\n    <tr>\n      <th>3670</th>\n      <td>2016</td>\n      <td>South Carolina</td>\n      <td>SC</td>\n      <td>Clinton, Hillary</td>\n      <td>democrat</td>\n      <td>False</td>\n      <td>855373</td>\n      <td>2103027</td>\n    </tr>\n    <tr>\n      <th>3677</th>\n      <td>2016</td>\n      <td>South Dakota</td>\n      <td>SD</td>\n      <td>Clinton, Hillary</td>\n      <td>democrat</td>\n      <td>False</td>\n      <td>117458</td>\n      <td>370093</td>\n    </tr>\n    <tr>\n      <th>3681</th>\n      <td>2016</td>\n      <td>Tennessee</td>\n      <td>TN</td>\n      <td>Clinton, Hillary</td>\n      <td>democrat</td>\n      <td>False</td>\n      <td>870695</td>\n      <td>2508027</td>\n    </tr>\n    <tr>\n      <th>3685</th>\n      <td>2016</td>\n      <td>Texas</td>\n      <td>TX</td>\n      <td>Clinton, Hillary</td>\n      <td>democrat</td>\n      <td>False</td>\n      <td>3877868</td>\n      <td>8969226</td>\n    </tr>\n    <tr>\n      <th>3690</th>\n      <td>2016</td>\n      <td>Utah</td>\n      <td>UT</td>\n      <td>Clinton, Hillary</td>\n      <td>democrat</td>\n      <td>False</td>\n      <td>310674</td>\n      <td>1131317</td>\n    </tr>\n    <tr>\n      <th>3695</th>\n      <td>2016</td>\n      <td>Vermont</td>\n      <td>VT</td>\n      <td>Clinton, Hillary</td>\n      <td>democrat</td>\n      <td>False</td>\n      <td>178573</td>\n      <td>320467</td>\n    </tr>\n    <tr>\n      <th>3704</th>\n      <td>2016</td>\n      <td>Virginia</td>\n      <td>VA</td>\n      <td>Clinton, Hillary</td>\n      <td>democrat</td>\n      <td>False</td>\n      <td>1981473</td>\n      <td>3982752</td>\n    </tr>\n    <tr>\n      <th>3710</th>\n      <td>2016</td>\n      <td>Washington</td>\n      <td>WA</td>\n      <td>Clinton, Hillary</td>\n      <td>democrat</td>\n      <td>False</td>\n      <td>1742718</td>\n      <td>3317019</td>\n    </tr>\n    <tr>\n      <th>3719</th>\n      <td>2016</td>\n      <td>West Virginia</td>\n      <td>WV</td>\n      <td>Clinton, Hillary</td>\n      <td>democrat</td>\n      <td>False</td>\n      <td>188794</td>\n      <td>713051</td>\n    </tr>\n    <tr>\n      <th>3724</th>\n      <td>2016</td>\n      <td>Wisconsin</td>\n      <td>WI</td>\n      <td>Clinton, Hillary</td>\n      <td>democrat</td>\n      <td>False</td>\n      <td>1382536</td>\n      <td>2976150</td>\n    </tr>\n    <tr>\n      <th>3733</th>\n      <td>2016</td>\n      <td>Wyoming</td>\n      <td>WY</td>\n      <td>Clinton, Hillary</td>\n      <td>democrat</td>\n      <td>False</td>\n      <td>55973</td>\n      <td>258788</td>\n    </tr>\n  </tbody>\n</table>\n</div>"
     },
     "metadata": {},
     "execution_count": 113
    }
   ],
   "source": [
    "# Segun add db connection here \n",
    "#JZ work stops here"
   ]
  },
  {
   "cell_type": "code",
   "execution_count": null,
   "metadata": {},
   "outputs": [],
   "source": []
  }
 ]
}