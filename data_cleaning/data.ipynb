{
 "metadata": {
  "language_info": {
   "codemirror_mode": {
    "name": "ipython",
    "version": 3
   },
   "file_extension": ".py",
   "mimetype": "text/x-python",
   "name": "python",
   "nbconvert_exporter": "python",
   "pygments_lexer": "ipython3",
   "version": "3.8.3-final"
  },
  "orig_nbformat": 2,
  "kernelspec": {
   "name": "python3",
   "display_name": "Python 3"
  }
 },
 "nbformat": 4,
 "nbformat_minor": 2,
 "cells": [
  {
   "cell_type": "code",
   "execution_count": 1,
   "metadata": {},
   "outputs": [],
   "source": [
    "import pandas as pd\n",
    "import numpy as np\n",
    "from bs4 import BeautifulSoup\n",
    "import urllib"
   ]
  },
  {
   "cell_type": "code",
   "execution_count": 3,
   "metadata": {},
   "outputs": [
    {
     "output_type": "stream",
     "name": "stdout",
     "text": [
      "(3235, 5)\n"
     ]
    },
    {
     "output_type": "execute_result",
     "data": {
      "text/plain": [
       "   state_abbr state_fips county_fips       county_name fips_class_code\n",
       "0          AL         01         001    Autauga County              H1\n",
       "1          AL         01         003    Baldwin County              H1\n",
       "2          AL         01         005    Barbour County              H1\n",
       "3          AL         01         007       Bibb County              H1\n",
       "4          AL         01         009     Blount County              H1\n",
       "5          AL         01         011    Bullock County              H1\n",
       "6          AL         01         013     Butler County              H1\n",
       "7          AL         01         015    Calhoun County              H1\n",
       "8          AL         01         017   Chambers County              H1\n",
       "9          AL         01         019   Cherokee County              H1\n",
       "10         AL         01         021    Chilton County              H1\n",
       "11         AL         01         023    Choctaw County              H1\n",
       "12         AL         01         025     Clarke County              H1\n",
       "13         AL         01         027       Clay County              H1\n",
       "14         AL         01         029   Cleburne County              H1\n",
       "15         AL         01         031     Coffee County              H1\n",
       "16         AL         01         033    Colbert County              H1\n",
       "17         AL         01         035    Conecuh County              H1\n",
       "18         AL         01         037      Coosa County              H1\n",
       "19         AL         01         039  Covington County              H1"
      ],
      "text/html": "<div>\n<style scoped>\n    .dataframe tbody tr th:only-of-type {\n        vertical-align: middle;\n    }\n\n    .dataframe tbody tr th {\n        vertical-align: top;\n    }\n\n    .dataframe thead th {\n        text-align: right;\n    }\n</style>\n<table border=\"1\" class=\"dataframe\">\n  <thead>\n    <tr style=\"text-align: right;\">\n      <th></th>\n      <th>state_abbr</th>\n      <th>state_fips</th>\n      <th>county_fips</th>\n      <th>county_name</th>\n      <th>fips_class_code</th>\n    </tr>\n  </thead>\n  <tbody>\n    <tr>\n      <th>0</th>\n      <td>AL</td>\n      <td>01</td>\n      <td>001</td>\n      <td>Autauga County</td>\n      <td>H1</td>\n    </tr>\n    <tr>\n      <th>1</th>\n      <td>AL</td>\n      <td>01</td>\n      <td>003</td>\n      <td>Baldwin County</td>\n      <td>H1</td>\n    </tr>\n    <tr>\n      <th>2</th>\n      <td>AL</td>\n      <td>01</td>\n      <td>005</td>\n      <td>Barbour County</td>\n      <td>H1</td>\n    </tr>\n    <tr>\n      <th>3</th>\n      <td>AL</td>\n      <td>01</td>\n      <td>007</td>\n      <td>Bibb County</td>\n      <td>H1</td>\n    </tr>\n    <tr>\n      <th>4</th>\n      <td>AL</td>\n      <td>01</td>\n      <td>009</td>\n      <td>Blount County</td>\n      <td>H1</td>\n    </tr>\n    <tr>\n      <th>5</th>\n      <td>AL</td>\n      <td>01</td>\n      <td>011</td>\n      <td>Bullock County</td>\n      <td>H1</td>\n    </tr>\n    <tr>\n      <th>6</th>\n      <td>AL</td>\n      <td>01</td>\n      <td>013</td>\n      <td>Butler County</td>\n      <td>H1</td>\n    </tr>\n    <tr>\n      <th>7</th>\n      <td>AL</td>\n      <td>01</td>\n      <td>015</td>\n      <td>Calhoun County</td>\n      <td>H1</td>\n    </tr>\n    <tr>\n      <th>8</th>\n      <td>AL</td>\n      <td>01</td>\n      <td>017</td>\n      <td>Chambers County</td>\n      <td>H1</td>\n    </tr>\n    <tr>\n      <th>9</th>\n      <td>AL</td>\n      <td>01</td>\n      <td>019</td>\n      <td>Cherokee County</td>\n      <td>H1</td>\n    </tr>\n    <tr>\n      <th>10</th>\n      <td>AL</td>\n      <td>01</td>\n      <td>021</td>\n      <td>Chilton County</td>\n      <td>H1</td>\n    </tr>\n    <tr>\n      <th>11</th>\n      <td>AL</td>\n      <td>01</td>\n      <td>023</td>\n      <td>Choctaw County</td>\n      <td>H1</td>\n    </tr>\n    <tr>\n      <th>12</th>\n      <td>AL</td>\n      <td>01</td>\n      <td>025</td>\n      <td>Clarke County</td>\n      <td>H1</td>\n    </tr>\n    <tr>\n      <th>13</th>\n      <td>AL</td>\n      <td>01</td>\n      <td>027</td>\n      <td>Clay County</td>\n      <td>H1</td>\n    </tr>\n    <tr>\n      <th>14</th>\n      <td>AL</td>\n      <td>01</td>\n      <td>029</td>\n      <td>Cleburne County</td>\n      <td>H1</td>\n    </tr>\n    <tr>\n      <th>15</th>\n      <td>AL</td>\n      <td>01</td>\n      <td>031</td>\n      <td>Coffee County</td>\n      <td>H1</td>\n    </tr>\n    <tr>\n      <th>16</th>\n      <td>AL</td>\n      <td>01</td>\n      <td>033</td>\n      <td>Colbert County</td>\n      <td>H1</td>\n    </tr>\n    <tr>\n      <th>17</th>\n      <td>AL</td>\n      <td>01</td>\n      <td>035</td>\n      <td>Conecuh County</td>\n      <td>H1</td>\n    </tr>\n    <tr>\n      <th>18</th>\n      <td>AL</td>\n      <td>01</td>\n      <td>037</td>\n      <td>Coosa County</td>\n      <td>H1</td>\n    </tr>\n    <tr>\n      <th>19</th>\n      <td>AL</td>\n      <td>01</td>\n      <td>039</td>\n      <td>Covington County</td>\n      <td>H1</td>\n    </tr>\n  </tbody>\n</table>\n</div>"
     },
     "metadata": {},
     "execution_count": 3
    }
   ],
   "source": [
    "census = pd.read_csv('http://www2.census.gov/geo/docs/reference/codes/files/national_county.txt',sep=',',header=None, dtype=str)\n",
    "census.columns = ['state_abbr', 'state_fips', 'county_fips', 'county_name', 'fips_class_code']\n",
    "print(census.shape)\n",
    "census.head(20)"
   ]
  },
  {
   "cell_type": "code",
   "execution_count": null,
   "metadata": {},
   "outputs": [],
   "source": []
  }
 ]
}