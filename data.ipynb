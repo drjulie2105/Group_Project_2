{
 "metadata": {
  "language_info": {
   "codemirror_mode": {
    "name": "ipython",
    "version": 3
   },
   "file_extension": ".py",
   "mimetype": "text/x-python",
   "name": "python",
   "nbconvert_exporter": "python",
   "pygments_lexer": "ipython3",
   "version": "3.8.3-final"
  },
  "orig_nbformat": 2,
  "kernelspec": {
   "name": "python3",
   "display_name": "Python 3"
  }
 },
 "nbformat": 4,
 "nbformat_minor": 2,
 "cells": [
  {
   "cell_type": "code",
   "execution_count": 1,
   "metadata": {},
   "outputs": [],
   "source": [
    "import pandas as pd\n",
    "import numpy as np\n",
    "from bs4 import BeautifulSoup\n",
    "import urllib"
   ]
  },
  {
   "cell_type": "code",
   "execution_count": 2,
   "metadata": {},
   "outputs": [
    {
     "output_type": "execute_result",
     "data": {
      "text/plain": [
       "   state_abbr state_fips county_fips       county_name fips_class_code\n",
       "0          AL         01         001    Autauga County              H1\n",
       "1          AL         01         003    Baldwin County              H1\n",
       "2          AL         01         005    Barbour County              H1\n",
       "3          AL         01         007       Bibb County              H1\n",
       "4          AL         01         009     Blount County              H1\n",
       "5          AL         01         011    Bullock County              H1\n",
       "6          AL         01         013     Butler County              H1\n",
       "7          AL         01         015    Calhoun County              H1\n",
       "8          AL         01         017   Chambers County              H1\n",
       "9          AL         01         019   Cherokee County              H1\n",
       "10         AL         01         021    Chilton County              H1\n",
       "11         AL         01         023    Choctaw County              H1\n",
       "12         AL         01         025     Clarke County              H1\n",
       "13         AL         01         027       Clay County              H1\n",
       "14         AL         01         029   Cleburne County              H1\n",
       "15         AL         01         031     Coffee County              H1\n",
       "16         AL         01         033    Colbert County              H1\n",
       "17         AL         01         035    Conecuh County              H1\n",
       "18         AL         01         037      Coosa County              H1\n",
       "19         AL         01         039  Covington County              H1"
      ],
      "text/html": "<div>\n<style scoped>\n    .dataframe tbody tr th:only-of-type {\n        vertical-align: middle;\n    }\n\n    .dataframe tbody tr th {\n        vertical-align: top;\n    }\n\n    .dataframe thead th {\n        text-align: right;\n    }\n</style>\n<table border=\"1\" class=\"dataframe\">\n  <thead>\n    <tr style=\"text-align: right;\">\n      <th></th>\n      <th>state_abbr</th>\n      <th>state_fips</th>\n      <th>county_fips</th>\n      <th>county_name</th>\n      <th>fips_class_code</th>\n    </tr>\n  </thead>\n  <tbody>\n    <tr>\n      <th>0</th>\n      <td>AL</td>\n      <td>01</td>\n      <td>001</td>\n      <td>Autauga County</td>\n      <td>H1</td>\n    </tr>\n    <tr>\n      <th>1</th>\n      <td>AL</td>\n      <td>01</td>\n      <td>003</td>\n      <td>Baldwin County</td>\n      <td>H1</td>\n    </tr>\n    <tr>\n      <th>2</th>\n      <td>AL</td>\n      <td>01</td>\n      <td>005</td>\n      <td>Barbour County</td>\n      <td>H1</td>\n    </tr>\n    <tr>\n      <th>3</th>\n      <td>AL</td>\n      <td>01</td>\n      <td>007</td>\n      <td>Bibb County</td>\n      <td>H1</td>\n    </tr>\n    <tr>\n      <th>4</th>\n      <td>AL</td>\n      <td>01</td>\n      <td>009</td>\n      <td>Blount County</td>\n      <td>H1</td>\n    </tr>\n    <tr>\n      <th>5</th>\n      <td>AL</td>\n      <td>01</td>\n      <td>011</td>\n      <td>Bullock County</td>\n      <td>H1</td>\n    </tr>\n    <tr>\n      <th>6</th>\n      <td>AL</td>\n      <td>01</td>\n      <td>013</td>\n      <td>Butler County</td>\n      <td>H1</td>\n    </tr>\n    <tr>\n      <th>7</th>\n      <td>AL</td>\n      <td>01</td>\n      <td>015</td>\n      <td>Calhoun County</td>\n      <td>H1</td>\n    </tr>\n    <tr>\n      <th>8</th>\n      <td>AL</td>\n      <td>01</td>\n      <td>017</td>\n      <td>Chambers County</td>\n      <td>H1</td>\n    </tr>\n    <tr>\n      <th>9</th>\n      <td>AL</td>\n      <td>01</td>\n      <td>019</td>\n      <td>Cherokee County</td>\n      <td>H1</td>\n    </tr>\n    <tr>\n      <th>10</th>\n      <td>AL</td>\n      <td>01</td>\n      <td>021</td>\n      <td>Chilton County</td>\n      <td>H1</td>\n    </tr>\n    <tr>\n      <th>11</th>\n      <td>AL</td>\n      <td>01</td>\n      <td>023</td>\n      <td>Choctaw County</td>\n      <td>H1</td>\n    </tr>\n    <tr>\n      <th>12</th>\n      <td>AL</td>\n      <td>01</td>\n      <td>025</td>\n      <td>Clarke County</td>\n      <td>H1</td>\n    </tr>\n    <tr>\n      <th>13</th>\n      <td>AL</td>\n      <td>01</td>\n      <td>027</td>\n      <td>Clay County</td>\n      <td>H1</td>\n    </tr>\n    <tr>\n      <th>14</th>\n      <td>AL</td>\n      <td>01</td>\n      <td>029</td>\n      <td>Cleburne County</td>\n      <td>H1</td>\n    </tr>\n    <tr>\n      <th>15</th>\n      <td>AL</td>\n      <td>01</td>\n      <td>031</td>\n      <td>Coffee County</td>\n      <td>H1</td>\n    </tr>\n    <tr>\n      <th>16</th>\n      <td>AL</td>\n      <td>01</td>\n      <td>033</td>\n      <td>Colbert County</td>\n      <td>H1</td>\n    </tr>\n    <tr>\n      <th>17</th>\n      <td>AL</td>\n      <td>01</td>\n      <td>035</td>\n      <td>Conecuh County</td>\n      <td>H1</td>\n    </tr>\n    <tr>\n      <th>18</th>\n      <td>AL</td>\n      <td>01</td>\n      <td>037</td>\n      <td>Coosa County</td>\n      <td>H1</td>\n    </tr>\n    <tr>\n      <th>19</th>\n      <td>AL</td>\n      <td>01</td>\n      <td>039</td>\n      <td>Covington County</td>\n      <td>H1</td>\n    </tr>\n  </tbody>\n</table>\n</div>"
     },
     "metadata": {},
     "execution_count": 2
    }
   ],
   "source": [
    "census = pd.read_csv('http://www2.census.gov/geo/docs/reference/codes/files/national_county.txt',sep=',',header=None, dtype=str)\n",
    "census.columns = ['state_abbr', 'state_fips', 'county_fips', 'county_name', 'fips_class_code']\n",
    "#print(census.shape)\n",
    "census.head(20)"
   ]
  },
  {
   "cell_type": "code",
   "execution_count": 3,
   "metadata": {},
   "outputs": [
    {
     "output_type": "execute_result",
     "data": {
      "text/plain": [
       "       year    state state_po       county    FIPS     office  \\\n",
       "0      2000  Alabama       AL      Autauga  1001.0  President   \n",
       "1      2000  Alabama       AL      Autauga  1001.0  President   \n",
       "2      2000  Alabama       AL      Autauga  1001.0  President   \n",
       "3      2000  Alabama       AL      Autauga  1001.0  President   \n",
       "4      2000  Alabama       AL      Baldwin  1003.0  President   \n",
       "...     ...      ...      ...          ...     ...        ...   \n",
       "50511  2016   Alaska       AK  District 40  2040.0  President   \n",
       "50512  2016   Alaska       AK  District 40  2040.0  President   \n",
       "50513  2016   Alaska       AK  District 99  2099.0  President   \n",
       "50514  2016   Alaska       AK  District 99  2099.0  President   \n",
       "50515  2016   Alaska       AK  District 99  2099.0  President   \n",
       "\n",
       "             candidate       party  candidatevotes  totalvotes   version  \n",
       "0              Al Gore    democrat          4942.0       17208  20191203  \n",
       "1       George W. Bush  republican         11993.0       17208  20191203  \n",
       "2          Ralph Nader       green           160.0       17208  20191203  \n",
       "3                Other         NaN           113.0       17208  20191203  \n",
       "4              Al Gore    democrat         13997.0       56480  20191203  \n",
       "...                ...         ...             ...         ...       ...  \n",
       "50511     Donald Trump  republican          1377.0        4610  20191203  \n",
       "50512            Other         NaN           895.0        4610  20191203  \n",
       "50513  Hillary Clinton    democrat           274.0        5056  20191203  \n",
       "50514     Donald Trump  republican            40.0        5056  20191203  \n",
       "50515            Other         NaN            28.0        5056  20191203  \n",
       "\n",
       "[50516 rows x 11 columns]"
      ],
      "text/html": "<div>\n<style scoped>\n    .dataframe tbody tr th:only-of-type {\n        vertical-align: middle;\n    }\n\n    .dataframe tbody tr th {\n        vertical-align: top;\n    }\n\n    .dataframe thead th {\n        text-align: right;\n    }\n</style>\n<table border=\"1\" class=\"dataframe\">\n  <thead>\n    <tr style=\"text-align: right;\">\n      <th></th>\n      <th>year</th>\n      <th>state</th>\n      <th>state_po</th>\n      <th>county</th>\n      <th>FIPS</th>\n      <th>office</th>\n      <th>candidate</th>\n      <th>party</th>\n      <th>candidatevotes</th>\n      <th>totalvotes</th>\n      <th>version</th>\n    </tr>\n  </thead>\n  <tbody>\n    <tr>\n      <th>0</th>\n      <td>2000</td>\n      <td>Alabama</td>\n      <td>AL</td>\n      <td>Autauga</td>\n      <td>1001.0</td>\n      <td>President</td>\n      <td>Al Gore</td>\n      <td>democrat</td>\n      <td>4942.0</td>\n      <td>17208</td>\n      <td>20191203</td>\n    </tr>\n    <tr>\n      <th>1</th>\n      <td>2000</td>\n      <td>Alabama</td>\n      <td>AL</td>\n      <td>Autauga</td>\n      <td>1001.0</td>\n      <td>President</td>\n      <td>George W. Bush</td>\n      <td>republican</td>\n      <td>11993.0</td>\n      <td>17208</td>\n      <td>20191203</td>\n    </tr>\n    <tr>\n      <th>2</th>\n      <td>2000</td>\n      <td>Alabama</td>\n      <td>AL</td>\n      <td>Autauga</td>\n      <td>1001.0</td>\n      <td>President</td>\n      <td>Ralph Nader</td>\n      <td>green</td>\n      <td>160.0</td>\n      <td>17208</td>\n      <td>20191203</td>\n    </tr>\n    <tr>\n      <th>3</th>\n      <td>2000</td>\n      <td>Alabama</td>\n      <td>AL</td>\n      <td>Autauga</td>\n      <td>1001.0</td>\n      <td>President</td>\n      <td>Other</td>\n      <td>NaN</td>\n      <td>113.0</td>\n      <td>17208</td>\n      <td>20191203</td>\n    </tr>\n    <tr>\n      <th>4</th>\n      <td>2000</td>\n      <td>Alabama</td>\n      <td>AL</td>\n      <td>Baldwin</td>\n      <td>1003.0</td>\n      <td>President</td>\n      <td>Al Gore</td>\n      <td>democrat</td>\n      <td>13997.0</td>\n      <td>56480</td>\n      <td>20191203</td>\n    </tr>\n    <tr>\n      <th>...</th>\n      <td>...</td>\n      <td>...</td>\n      <td>...</td>\n      <td>...</td>\n      <td>...</td>\n      <td>...</td>\n      <td>...</td>\n      <td>...</td>\n      <td>...</td>\n      <td>...</td>\n      <td>...</td>\n    </tr>\n    <tr>\n      <th>50511</th>\n      <td>2016</td>\n      <td>Alaska</td>\n      <td>AK</td>\n      <td>District 40</td>\n      <td>2040.0</td>\n      <td>President</td>\n      <td>Donald Trump</td>\n      <td>republican</td>\n      <td>1377.0</td>\n      <td>4610</td>\n      <td>20191203</td>\n    </tr>\n    <tr>\n      <th>50512</th>\n      <td>2016</td>\n      <td>Alaska</td>\n      <td>AK</td>\n      <td>District 40</td>\n      <td>2040.0</td>\n      <td>President</td>\n      <td>Other</td>\n      <td>NaN</td>\n      <td>895.0</td>\n      <td>4610</td>\n      <td>20191203</td>\n    </tr>\n    <tr>\n      <th>50513</th>\n      <td>2016</td>\n      <td>Alaska</td>\n      <td>AK</td>\n      <td>District 99</td>\n      <td>2099.0</td>\n      <td>President</td>\n      <td>Hillary Clinton</td>\n      <td>democrat</td>\n      <td>274.0</td>\n      <td>5056</td>\n      <td>20191203</td>\n    </tr>\n    <tr>\n      <th>50514</th>\n      <td>2016</td>\n      <td>Alaska</td>\n      <td>AK</td>\n      <td>District 99</td>\n      <td>2099.0</td>\n      <td>President</td>\n      <td>Donald Trump</td>\n      <td>republican</td>\n      <td>40.0</td>\n      <td>5056</td>\n      <td>20191203</td>\n    </tr>\n    <tr>\n      <th>50515</th>\n      <td>2016</td>\n      <td>Alaska</td>\n      <td>AK</td>\n      <td>District 99</td>\n      <td>2099.0</td>\n      <td>President</td>\n      <td>Other</td>\n      <td>NaN</td>\n      <td>28.0</td>\n      <td>5056</td>\n      <td>20191203</td>\n    </tr>\n  </tbody>\n</table>\n<p>50516 rows × 11 columns</p>\n</div>"
     },
     "metadata": {},
     "execution_count": 3
    }
   ],
   "source": [
    "file_to_load = pd.read_csv('countypres_2000-2016.csv')\n",
    "\n",
    "countpres = pd.DataFrame(file_to_load)\n",
    "countpres"
   ]
  },
  {
   "cell_type": "code",
   "execution_count": 4,
   "metadata": {},
   "outputs": [
    {
     "output_type": "execute_result",
     "data": {
      "text/plain": [
       "       year    state state_abbr              county  FIPS        candidate  \\\n",
       "0      2000  Alabama         AL      Autauga County  1001          Al Gore   \n",
       "1      2000  Alabama         AL      Autauga County  1001   George W. Bush   \n",
       "2      2000  Alabama         AL      Autauga County  1001      Ralph Nader   \n",
       "3      2000  Alabama         AL      Autauga County  1001            Other   \n",
       "4      2000  Alabama         AL      Baldwin County  1003          Al Gore   \n",
       "...     ...      ...        ...                 ...   ...              ...   \n",
       "50511  2016   Alaska         AK  District 40 County  2040     Donald Trump   \n",
       "50512  2016   Alaska         AK  District 40 County  2040            Other   \n",
       "50513  2016   Alaska         AK  District 99 County  2099  Hillary Clinton   \n",
       "50514  2016   Alaska         AK  District 99 County  2099     Donald Trump   \n",
       "50515  2016   Alaska         AK  District 99 County  2099            Other   \n",
       "\n",
       "            party  candidatevotes  totalvotes  \n",
       "0        democrat          4942.0       17208  \n",
       "1      republican         11993.0       17208  \n",
       "2           green           160.0       17208  \n",
       "3             NaN           113.0       17208  \n",
       "4        democrat         13997.0       56480  \n",
       "...           ...             ...         ...  \n",
       "50511  republican          1377.0        4610  \n",
       "50512         NaN           895.0        4610  \n",
       "50513    democrat           274.0        5056  \n",
       "50514  republican            40.0        5056  \n",
       "50515         NaN            28.0        5056  \n",
       "\n",
       "[50467 rows x 9 columns]"
      ],
      "text/html": "<div>\n<style scoped>\n    .dataframe tbody tr th:only-of-type {\n        vertical-align: middle;\n    }\n\n    .dataframe tbody tr th {\n        vertical-align: top;\n    }\n\n    .dataframe thead th {\n        text-align: right;\n    }\n</style>\n<table border=\"1\" class=\"dataframe\">\n  <thead>\n    <tr style=\"text-align: right;\">\n      <th></th>\n      <th>year</th>\n      <th>state</th>\n      <th>state_abbr</th>\n      <th>county</th>\n      <th>FIPS</th>\n      <th>candidate</th>\n      <th>party</th>\n      <th>candidatevotes</th>\n      <th>totalvotes</th>\n    </tr>\n  </thead>\n  <tbody>\n    <tr>\n      <th>0</th>\n      <td>2000</td>\n      <td>Alabama</td>\n      <td>AL</td>\n      <td>Autauga County</td>\n      <td>1001</td>\n      <td>Al Gore</td>\n      <td>democrat</td>\n      <td>4942.0</td>\n      <td>17208</td>\n    </tr>\n    <tr>\n      <th>1</th>\n      <td>2000</td>\n      <td>Alabama</td>\n      <td>AL</td>\n      <td>Autauga County</td>\n      <td>1001</td>\n      <td>George W. Bush</td>\n      <td>republican</td>\n      <td>11993.0</td>\n      <td>17208</td>\n    </tr>\n    <tr>\n      <th>2</th>\n      <td>2000</td>\n      <td>Alabama</td>\n      <td>AL</td>\n      <td>Autauga County</td>\n      <td>1001</td>\n      <td>Ralph Nader</td>\n      <td>green</td>\n      <td>160.0</td>\n      <td>17208</td>\n    </tr>\n    <tr>\n      <th>3</th>\n      <td>2000</td>\n      <td>Alabama</td>\n      <td>AL</td>\n      <td>Autauga County</td>\n      <td>1001</td>\n      <td>Other</td>\n      <td>NaN</td>\n      <td>113.0</td>\n      <td>17208</td>\n    </tr>\n    <tr>\n      <th>4</th>\n      <td>2000</td>\n      <td>Alabama</td>\n      <td>AL</td>\n      <td>Baldwin County</td>\n      <td>1003</td>\n      <td>Al Gore</td>\n      <td>democrat</td>\n      <td>13997.0</td>\n      <td>56480</td>\n    </tr>\n    <tr>\n      <th>...</th>\n      <td>...</td>\n      <td>...</td>\n      <td>...</td>\n      <td>...</td>\n      <td>...</td>\n      <td>...</td>\n      <td>...</td>\n      <td>...</td>\n      <td>...</td>\n    </tr>\n    <tr>\n      <th>50511</th>\n      <td>2016</td>\n      <td>Alaska</td>\n      <td>AK</td>\n      <td>District 40 County</td>\n      <td>2040</td>\n      <td>Donald Trump</td>\n      <td>republican</td>\n      <td>1377.0</td>\n      <td>4610</td>\n    </tr>\n    <tr>\n      <th>50512</th>\n      <td>2016</td>\n      <td>Alaska</td>\n      <td>AK</td>\n      <td>District 40 County</td>\n      <td>2040</td>\n      <td>Other</td>\n      <td>NaN</td>\n      <td>895.0</td>\n      <td>4610</td>\n    </tr>\n    <tr>\n      <th>50513</th>\n      <td>2016</td>\n      <td>Alaska</td>\n      <td>AK</td>\n      <td>District 99 County</td>\n      <td>2099</td>\n      <td>Hillary Clinton</td>\n      <td>democrat</td>\n      <td>274.0</td>\n      <td>5056</td>\n    </tr>\n    <tr>\n      <th>50514</th>\n      <td>2016</td>\n      <td>Alaska</td>\n      <td>AK</td>\n      <td>District 99 County</td>\n      <td>2099</td>\n      <td>Donald Trump</td>\n      <td>republican</td>\n      <td>40.0</td>\n      <td>5056</td>\n    </tr>\n    <tr>\n      <th>50515</th>\n      <td>2016</td>\n      <td>Alaska</td>\n      <td>AK</td>\n      <td>District 99 County</td>\n      <td>2099</td>\n      <td>Other</td>\n      <td>NaN</td>\n      <td>28.0</td>\n      <td>5056</td>\n    </tr>\n  </tbody>\n</table>\n<p>50467 rows × 9 columns</p>\n</div>"
     },
     "metadata": {},
     "execution_count": 4
    }
   ],
   "source": [
    "countpres.FIPS =countpres.FIPS.fillna(0)\n",
    "countpres['FIPS']= countpres['FIPS'].astype(int)\n",
    "countpres = countpres[countpres['FIPS'] != '0']\n",
    "#countpres = countpres.dropna(subset=['FIPS'], inplace=True)\n",
    "countpres.county = countpres.county + ' County'\n",
    "countpres.dropna(subset =['state_po'], inplace=True)\n",
    "countpres.rename(columns={'state_po': \"state_abbr\"}, inplace=True)\n",
    "countpres.drop(columns=['office', 'version'])"
   ]
  },
  {
   "cell_type": "code",
   "execution_count": 10,
   "metadata": {},
   "outputs": [
    {
     "output_type": "execute_result",
     "data": {
      "text/plain": [
       "       year    state state_abbr              county  FIPS     office  \\\n",
       "0      2000  Alabama         AL      Autauga County  1001  President   \n",
       "1      2000  Alabama         AL      Autauga County  1001  President   \n",
       "2      2000  Alabama         AL      Autauga County  1001  President   \n",
       "3      2000  Alabama         AL      Autauga County  1001  President   \n",
       "4      2000  Alabama         AL      Baldwin County  1003  President   \n",
       "...     ...      ...        ...                 ...   ...        ...   \n",
       "50511  2016   Alaska         AK  District 40 County  2040  President   \n",
       "50512  2016   Alaska         AK  District 40 County  2040  President   \n",
       "50513  2016   Alaska         AK  District 99 County  2099  President   \n",
       "50514  2016   Alaska         AK  District 99 County  2099  President   \n",
       "50515  2016   Alaska         AK  District 99 County  2099  President   \n",
       "\n",
       "             candidate       party  candidatevotes  totalvotes  \\\n",
       "0              Al Gore    democrat          4942.0       17208   \n",
       "1       George W. Bush  republican         11993.0       17208   \n",
       "2          Ralph Nader       green           160.0       17208   \n",
       "3                Other         NaN           113.0       17208   \n",
       "4              Al Gore    democrat         13997.0       56480   \n",
       "...                ...         ...             ...         ...   \n",
       "50511     Donald Trump  republican          1377.0        4610   \n",
       "50512            Other         NaN           895.0        4610   \n",
       "50513  Hillary Clinton    democrat           274.0        5056   \n",
       "50514     Donald Trump  republican            40.0        5056   \n",
       "50515            Other         NaN            28.0        5056   \n",
       "\n",
       "                 combined  \n",
       "0         ALautaugacounty  \n",
       "1         ALautaugacounty  \n",
       "2         ALautaugacounty  \n",
       "3         ALautaugacounty  \n",
       "4         ALbaldwincounty  \n",
       "...                   ...  \n",
       "50511  AKdistrict40county  \n",
       "50512  AKdistrict40county  \n",
       "50513  AKdistrict99county  \n",
       "50514  AKdistrict99county  \n",
       "50515  AKdistrict99county  \n",
       "\n",
       "[50467 rows x 11 columns]"
      ],
      "text/html": "<div>\n<style scoped>\n    .dataframe tbody tr th:only-of-type {\n        vertical-align: middle;\n    }\n\n    .dataframe tbody tr th {\n        vertical-align: top;\n    }\n\n    .dataframe thead th {\n        text-align: right;\n    }\n</style>\n<table border=\"1\" class=\"dataframe\">\n  <thead>\n    <tr style=\"text-align: right;\">\n      <th></th>\n      <th>year</th>\n      <th>state</th>\n      <th>state_abbr</th>\n      <th>county</th>\n      <th>FIPS</th>\n      <th>office</th>\n      <th>candidate</th>\n      <th>party</th>\n      <th>candidatevotes</th>\n      <th>totalvotes</th>\n      <th>combined</th>\n    </tr>\n  </thead>\n  <tbody>\n    <tr>\n      <th>0</th>\n      <td>2000</td>\n      <td>Alabama</td>\n      <td>AL</td>\n      <td>Autauga County</td>\n      <td>1001</td>\n      <td>President</td>\n      <td>Al Gore</td>\n      <td>democrat</td>\n      <td>4942.0</td>\n      <td>17208</td>\n      <td>ALautaugacounty</td>\n    </tr>\n    <tr>\n      <th>1</th>\n      <td>2000</td>\n      <td>Alabama</td>\n      <td>AL</td>\n      <td>Autauga County</td>\n      <td>1001</td>\n      <td>President</td>\n      <td>George W. Bush</td>\n      <td>republican</td>\n      <td>11993.0</td>\n      <td>17208</td>\n      <td>ALautaugacounty</td>\n    </tr>\n    <tr>\n      <th>2</th>\n      <td>2000</td>\n      <td>Alabama</td>\n      <td>AL</td>\n      <td>Autauga County</td>\n      <td>1001</td>\n      <td>President</td>\n      <td>Ralph Nader</td>\n      <td>green</td>\n      <td>160.0</td>\n      <td>17208</td>\n      <td>ALautaugacounty</td>\n    </tr>\n    <tr>\n      <th>3</th>\n      <td>2000</td>\n      <td>Alabama</td>\n      <td>AL</td>\n      <td>Autauga County</td>\n      <td>1001</td>\n      <td>President</td>\n      <td>Other</td>\n      <td>NaN</td>\n      <td>113.0</td>\n      <td>17208</td>\n      <td>ALautaugacounty</td>\n    </tr>\n    <tr>\n      <th>4</th>\n      <td>2000</td>\n      <td>Alabama</td>\n      <td>AL</td>\n      <td>Baldwin County</td>\n      <td>1003</td>\n      <td>President</td>\n      <td>Al Gore</td>\n      <td>democrat</td>\n      <td>13997.0</td>\n      <td>56480</td>\n      <td>ALbaldwincounty</td>\n    </tr>\n    <tr>\n      <th>...</th>\n      <td>...</td>\n      <td>...</td>\n      <td>...</td>\n      <td>...</td>\n      <td>...</td>\n      <td>...</td>\n      <td>...</td>\n      <td>...</td>\n      <td>...</td>\n      <td>...</td>\n      <td>...</td>\n    </tr>\n    <tr>\n      <th>50511</th>\n      <td>2016</td>\n      <td>Alaska</td>\n      <td>AK</td>\n      <td>District 40 County</td>\n      <td>2040</td>\n      <td>President</td>\n      <td>Donald Trump</td>\n      <td>republican</td>\n      <td>1377.0</td>\n      <td>4610</td>\n      <td>AKdistrict40county</td>\n    </tr>\n    <tr>\n      <th>50512</th>\n      <td>2016</td>\n      <td>Alaska</td>\n      <td>AK</td>\n      <td>District 40 County</td>\n      <td>2040</td>\n      <td>President</td>\n      <td>Other</td>\n      <td>NaN</td>\n      <td>895.0</td>\n      <td>4610</td>\n      <td>AKdistrict40county</td>\n    </tr>\n    <tr>\n      <th>50513</th>\n      <td>2016</td>\n      <td>Alaska</td>\n      <td>AK</td>\n      <td>District 99 County</td>\n      <td>2099</td>\n      <td>President</td>\n      <td>Hillary Clinton</td>\n      <td>democrat</td>\n      <td>274.0</td>\n      <td>5056</td>\n      <td>AKdistrict99county</td>\n    </tr>\n    <tr>\n      <th>50514</th>\n      <td>2016</td>\n      <td>Alaska</td>\n      <td>AK</td>\n      <td>District 99 County</td>\n      <td>2099</td>\n      <td>President</td>\n      <td>Donald Trump</td>\n      <td>republican</td>\n      <td>40.0</td>\n      <td>5056</td>\n      <td>AKdistrict99county</td>\n    </tr>\n    <tr>\n      <th>50515</th>\n      <td>2016</td>\n      <td>Alaska</td>\n      <td>AK</td>\n      <td>District 99 County</td>\n      <td>2099</td>\n      <td>President</td>\n      <td>Other</td>\n      <td>NaN</td>\n      <td>28.0</td>\n      <td>5056</td>\n      <td>AKdistrict99county</td>\n    </tr>\n  </tbody>\n</table>\n<p>50467 rows × 11 columns</p>\n</div>"
     },
     "metadata": {},
     "execution_count": 10
    }
   ],
   "source": [
    "countpres['combined'] = countpres['state_abbr'] + countpres['county'].apply(lambda x: x.replace(' ','').lower())\n",
    "countpres[(countpres['state_abbr'] == 'DC')]\n",
    "#countpres = countpres.drop(columns='version', axis=1)\n",
    "countpres"
   ]
  },
  {
   "cell_type": "code",
   "execution_count": 128,
   "metadata": {},
   "outputs": [
    {
     "output_type": "execute_result",
     "data": {
      "text/plain": [
       "  state_abbr state_fips county_fips     county_name fips_class_code\n",
       "0         AL         01         001  Autauga County              H1"
      ],
      "text/html": "<div>\n<style scoped>\n    .dataframe tbody tr th:only-of-type {\n        vertical-align: middle;\n    }\n\n    .dataframe tbody tr th {\n        vertical-align: top;\n    }\n\n    .dataframe thead th {\n        text-align: right;\n    }\n</style>\n<table border=\"1\" class=\"dataframe\">\n  <thead>\n    <tr style=\"text-align: right;\">\n      <th></th>\n      <th>state_abbr</th>\n      <th>state_fips</th>\n      <th>county_fips</th>\n      <th>county_name</th>\n      <th>fips_class_code</th>\n    </tr>\n  </thead>\n  <tbody>\n    <tr>\n      <th>0</th>\n      <td>AL</td>\n      <td>01</td>\n      <td>001</td>\n      <td>Autauga County</td>\n      <td>H1</td>\n    </tr>\n  </tbody>\n</table>\n</div>"
     },
     "metadata": {},
     "execution_count": 128
    }
   ],
   "source": [
    "census[(census['state_abbr'] == 'AL') & (census['county_name'] == 'Autauga County')]\n",
    "cenus[]"
   ]
  },
  {
   "cell_type": "code",
   "execution_count": 12,
   "metadata": {},
   "outputs": [
    {
     "output_type": "execute_result",
     "data": {
      "text/plain": [
       "     state_abbr state_fips county_fips        county_name fips_class_code  \\\n",
       "0            AL         01         001     Autauga County              H1   \n",
       "1            AL         01         003     Baldwin County              H1   \n",
       "2            AL         01         005     Barbour County              H1   \n",
       "3            AL         01         007        Bibb County              H1   \n",
       "4            AL         01         009      Blount County              H1   \n",
       "...         ...        ...         ...                ...             ...   \n",
       "3230         PR         72         153    Yauco Municipio              H1   \n",
       "3231         UM         74         300     Midway Islands              H4   \n",
       "3232         VI         78         010   St. Croix Island              H4   \n",
       "3233         VI         78         020    St. John Island              H4   \n",
       "3234         VI         78         030  St. Thomas Island              H4   \n",
       "\n",
       "               combined  \n",
       "0       ALautaugacounty  \n",
       "1       ALbaldwincounty  \n",
       "2       ALbarbourcounty  \n",
       "3          ALbibbcounty  \n",
       "4        ALblountcounty  \n",
       "...                 ...  \n",
       "3230   PRyaucomunicipio  \n",
       "3231    UMmidwayislands  \n",
       "3232   VIst.croixisland  \n",
       "3233    VIst.johnisland  \n",
       "3234  VIst.thomasisland  \n",
       "\n",
       "[3235 rows x 6 columns]"
      ],
      "text/html": "<div>\n<style scoped>\n    .dataframe tbody tr th:only-of-type {\n        vertical-align: middle;\n    }\n\n    .dataframe tbody tr th {\n        vertical-align: top;\n    }\n\n    .dataframe thead th {\n        text-align: right;\n    }\n</style>\n<table border=\"1\" class=\"dataframe\">\n  <thead>\n    <tr style=\"text-align: right;\">\n      <th></th>\n      <th>state_abbr</th>\n      <th>state_fips</th>\n      <th>county_fips</th>\n      <th>county_name</th>\n      <th>fips_class_code</th>\n      <th>combined</th>\n    </tr>\n  </thead>\n  <tbody>\n    <tr>\n      <th>0</th>\n      <td>AL</td>\n      <td>01</td>\n      <td>001</td>\n      <td>Autauga County</td>\n      <td>H1</td>\n      <td>ALautaugacounty</td>\n    </tr>\n    <tr>\n      <th>1</th>\n      <td>AL</td>\n      <td>01</td>\n      <td>003</td>\n      <td>Baldwin County</td>\n      <td>H1</td>\n      <td>ALbaldwincounty</td>\n    </tr>\n    <tr>\n      <th>2</th>\n      <td>AL</td>\n      <td>01</td>\n      <td>005</td>\n      <td>Barbour County</td>\n      <td>H1</td>\n      <td>ALbarbourcounty</td>\n    </tr>\n    <tr>\n      <th>3</th>\n      <td>AL</td>\n      <td>01</td>\n      <td>007</td>\n      <td>Bibb County</td>\n      <td>H1</td>\n      <td>ALbibbcounty</td>\n    </tr>\n    <tr>\n      <th>4</th>\n      <td>AL</td>\n      <td>01</td>\n      <td>009</td>\n      <td>Blount County</td>\n      <td>H1</td>\n      <td>ALblountcounty</td>\n    </tr>\n    <tr>\n      <th>...</th>\n      <td>...</td>\n      <td>...</td>\n      <td>...</td>\n      <td>...</td>\n      <td>...</td>\n      <td>...</td>\n    </tr>\n    <tr>\n      <th>3230</th>\n      <td>PR</td>\n      <td>72</td>\n      <td>153</td>\n      <td>Yauco Municipio</td>\n      <td>H1</td>\n      <td>PRyaucomunicipio</td>\n    </tr>\n    <tr>\n      <th>3231</th>\n      <td>UM</td>\n      <td>74</td>\n      <td>300</td>\n      <td>Midway Islands</td>\n      <td>H4</td>\n      <td>UMmidwayislands</td>\n    </tr>\n    <tr>\n      <th>3232</th>\n      <td>VI</td>\n      <td>78</td>\n      <td>010</td>\n      <td>St. Croix Island</td>\n      <td>H4</td>\n      <td>VIst.croixisland</td>\n    </tr>\n    <tr>\n      <th>3233</th>\n      <td>VI</td>\n      <td>78</td>\n      <td>020</td>\n      <td>St. John Island</td>\n      <td>H4</td>\n      <td>VIst.johnisland</td>\n    </tr>\n    <tr>\n      <th>3234</th>\n      <td>VI</td>\n      <td>78</td>\n      <td>030</td>\n      <td>St. Thomas Island</td>\n      <td>H4</td>\n      <td>VIst.thomasisland</td>\n    </tr>\n  </tbody>\n</table>\n<p>3235 rows × 6 columns</p>\n</div>"
     },
     "metadata": {},
     "execution_count": 12
    }
   ],
   "source": [
    "census['combined'] = census['state_abbr'] + census['county_name'].apply(lambda x: x.replace(' ','').lower())\n",
    "census"
   ]
  },
  {
   "cell_type": "code",
   "execution_count": 16,
   "metadata": {},
   "outputs": [
    {
     "output_type": "execute_result",
     "data": {
      "text/plain": [
       "             combined  year    state state_abbr          county  FIPS  \\\n",
       "647   ALautaugacounty  2000  Alabama         AL  Autauga County  1001   \n",
       "648   ALautaugacounty  2000  Alabama         AL  Autauga County  1001   \n",
       "649   ALautaugacounty  2000  Alabama         AL  Autauga County  1001   \n",
       "650   ALautaugacounty  2000  Alabama         AL  Autauga County  1001   \n",
       "651   ALautaugacounty  2004  Alabama         AL  Autauga County  1001   \n",
       "...               ...   ...      ...        ...             ...   ...   \n",
       "1714  ALwinstoncounty  2012  Alabama         AL  Winston County  1133   \n",
       "1715  ALwinstoncounty  2012  Alabama         AL  Winston County  1133   \n",
       "1716  ALwinstoncounty  2016  Alabama         AL  Winston County  1133   \n",
       "1717  ALwinstoncounty  2016  Alabama         AL  Winston County  1133   \n",
       "1718  ALwinstoncounty  2016  Alabama         AL  Winston County  1133   \n",
       "\n",
       "         office        candidate       party  candidatevotes  totalvotes  \\\n",
       "647   President          Al Gore    democrat          4942.0       17208   \n",
       "648   President   George W. Bush  republican         11993.0       17208   \n",
       "649   President      Ralph Nader       green           160.0       17208   \n",
       "650   President            Other         NaN           113.0       17208   \n",
       "651   President       John Kerry    democrat          4758.0       20081   \n",
       "...         ...              ...         ...             ...         ...   \n",
       "1714  President      Mitt Romney  republican          8312.0        9714   \n",
       "1715  President            Other         NaN           116.0        9714   \n",
       "1716  President  Hillary Clinton    democrat           872.0       10313   \n",
       "1717  President     Donald Trump  republican          9228.0       10313   \n",
       "1718  President            Other         NaN           213.0       10313   \n",
       "\n",
       "     state_abbr_r state_fips county_fips     county_name fips_class_code  \n",
       "647            AL         01         001  Autauga County              H1  \n",
       "648            AL         01         001  Autauga County              H1  \n",
       "649            AL         01         001  Autauga County              H1  \n",
       "650            AL         01         001  Autauga County              H1  \n",
       "651            AL         01         001  Autauga County              H1  \n",
       "...           ...        ...         ...             ...             ...  \n",
       "1714           AL         01         133  Winston County              H1  \n",
       "1715           AL         01         133  Winston County              H1  \n",
       "1716           AL         01         133  Winston County              H1  \n",
       "1717           AL         01         133  Winston County              H1  \n",
       "1718           AL         01         133  Winston County              H1  \n",
       "\n",
       "[1072 rows x 16 columns]"
      ],
      "text/html": "<div>\n<style scoped>\n    .dataframe tbody tr th:only-of-type {\n        vertical-align: middle;\n    }\n\n    .dataframe tbody tr th {\n        vertical-align: top;\n    }\n\n    .dataframe thead th {\n        text-align: right;\n    }\n</style>\n<table border=\"1\" class=\"dataframe\">\n  <thead>\n    <tr style=\"text-align: right;\">\n      <th></th>\n      <th>combined</th>\n      <th>year</th>\n      <th>state</th>\n      <th>state_abbr</th>\n      <th>county</th>\n      <th>FIPS</th>\n      <th>office</th>\n      <th>candidate</th>\n      <th>party</th>\n      <th>candidatevotes</th>\n      <th>totalvotes</th>\n      <th>state_abbr_r</th>\n      <th>state_fips</th>\n      <th>county_fips</th>\n      <th>county_name</th>\n      <th>fips_class_code</th>\n    </tr>\n  </thead>\n  <tbody>\n    <tr>\n      <th>647</th>\n      <td>ALautaugacounty</td>\n      <td>2000</td>\n      <td>Alabama</td>\n      <td>AL</td>\n      <td>Autauga County</td>\n      <td>1001</td>\n      <td>President</td>\n      <td>Al Gore</td>\n      <td>democrat</td>\n      <td>4942.0</td>\n      <td>17208</td>\n      <td>AL</td>\n      <td>01</td>\n      <td>001</td>\n      <td>Autauga County</td>\n      <td>H1</td>\n    </tr>\n    <tr>\n      <th>648</th>\n      <td>ALautaugacounty</td>\n      <td>2000</td>\n      <td>Alabama</td>\n      <td>AL</td>\n      <td>Autauga County</td>\n      <td>1001</td>\n      <td>President</td>\n      <td>George W. Bush</td>\n      <td>republican</td>\n      <td>11993.0</td>\n      <td>17208</td>\n      <td>AL</td>\n      <td>01</td>\n      <td>001</td>\n      <td>Autauga County</td>\n      <td>H1</td>\n    </tr>\n    <tr>\n      <th>649</th>\n      <td>ALautaugacounty</td>\n      <td>2000</td>\n      <td>Alabama</td>\n      <td>AL</td>\n      <td>Autauga County</td>\n      <td>1001</td>\n      <td>President</td>\n      <td>Ralph Nader</td>\n      <td>green</td>\n      <td>160.0</td>\n      <td>17208</td>\n      <td>AL</td>\n      <td>01</td>\n      <td>001</td>\n      <td>Autauga County</td>\n      <td>H1</td>\n    </tr>\n    <tr>\n      <th>650</th>\n      <td>ALautaugacounty</td>\n      <td>2000</td>\n      <td>Alabama</td>\n      <td>AL</td>\n      <td>Autauga County</td>\n      <td>1001</td>\n      <td>President</td>\n      <td>Other</td>\n      <td>NaN</td>\n      <td>113.0</td>\n      <td>17208</td>\n      <td>AL</td>\n      <td>01</td>\n      <td>001</td>\n      <td>Autauga County</td>\n      <td>H1</td>\n    </tr>\n    <tr>\n      <th>651</th>\n      <td>ALautaugacounty</td>\n      <td>2004</td>\n      <td>Alabama</td>\n      <td>AL</td>\n      <td>Autauga County</td>\n      <td>1001</td>\n      <td>President</td>\n      <td>John Kerry</td>\n      <td>democrat</td>\n      <td>4758.0</td>\n      <td>20081</td>\n      <td>AL</td>\n      <td>01</td>\n      <td>001</td>\n      <td>Autauga County</td>\n      <td>H1</td>\n    </tr>\n    <tr>\n      <th>...</th>\n      <td>...</td>\n      <td>...</td>\n      <td>...</td>\n      <td>...</td>\n      <td>...</td>\n      <td>...</td>\n      <td>...</td>\n      <td>...</td>\n      <td>...</td>\n      <td>...</td>\n      <td>...</td>\n      <td>...</td>\n      <td>...</td>\n      <td>...</td>\n      <td>...</td>\n      <td>...</td>\n    </tr>\n    <tr>\n      <th>1714</th>\n      <td>ALwinstoncounty</td>\n      <td>2012</td>\n      <td>Alabama</td>\n      <td>AL</td>\n      <td>Winston County</td>\n      <td>1133</td>\n      <td>President</td>\n      <td>Mitt Romney</td>\n      <td>republican</td>\n      <td>8312.0</td>\n      <td>9714</td>\n      <td>AL</td>\n      <td>01</td>\n      <td>133</td>\n      <td>Winston County</td>\n      <td>H1</td>\n    </tr>\n    <tr>\n      <th>1715</th>\n      <td>ALwinstoncounty</td>\n      <td>2012</td>\n      <td>Alabama</td>\n      <td>AL</td>\n      <td>Winston County</td>\n      <td>1133</td>\n      <td>President</td>\n      <td>Other</td>\n      <td>NaN</td>\n      <td>116.0</td>\n      <td>9714</td>\n      <td>AL</td>\n      <td>01</td>\n      <td>133</td>\n      <td>Winston County</td>\n      <td>H1</td>\n    </tr>\n    <tr>\n      <th>1716</th>\n      <td>ALwinstoncounty</td>\n      <td>2016</td>\n      <td>Alabama</td>\n      <td>AL</td>\n      <td>Winston County</td>\n      <td>1133</td>\n      <td>President</td>\n      <td>Hillary Clinton</td>\n      <td>democrat</td>\n      <td>872.0</td>\n      <td>10313</td>\n      <td>AL</td>\n      <td>01</td>\n      <td>133</td>\n      <td>Winston County</td>\n      <td>H1</td>\n    </tr>\n    <tr>\n      <th>1717</th>\n      <td>ALwinstoncounty</td>\n      <td>2016</td>\n      <td>Alabama</td>\n      <td>AL</td>\n      <td>Winston County</td>\n      <td>1133</td>\n      <td>President</td>\n      <td>Donald Trump</td>\n      <td>republican</td>\n      <td>9228.0</td>\n      <td>10313</td>\n      <td>AL</td>\n      <td>01</td>\n      <td>133</td>\n      <td>Winston County</td>\n      <td>H1</td>\n    </tr>\n    <tr>\n      <th>1718</th>\n      <td>ALwinstoncounty</td>\n      <td>2016</td>\n      <td>Alabama</td>\n      <td>AL</td>\n      <td>Winston County</td>\n      <td>1133</td>\n      <td>President</td>\n      <td>Other</td>\n      <td>NaN</td>\n      <td>213.0</td>\n      <td>10313</td>\n      <td>AL</td>\n      <td>01</td>\n      <td>133</td>\n      <td>Winston County</td>\n      <td>H1</td>\n    </tr>\n  </tbody>\n</table>\n<p>1072 rows × 16 columns</p>\n</div>"
     },
     "metadata": {},
     "execution_count": 16
    }
   ],
   "source": [
    "left = countpres.set_index('combined')\n",
    "right = census.set_index('combined')\n",
    "combined = left.join(right, lsuffix='', rsuffix='_r')\n",
    "combined = combined.reset_index()\n",
    "combined[(combined['state_abbr'] == 'AL')]"
   ]
  }
 ]
}