{
 "metadata": {
  "language_info": {
   "codemirror_mode": {
    "name": "ipython",
    "version": 3
   },
   "file_extension": ".py",
   "mimetype": "text/x-python",
   "name": "python",
   "nbconvert_exporter": "python",
   "pygments_lexer": "ipython3",
   "version": "3.7.6-final"
  },
  "orig_nbformat": 2,
  "kernelspec": {
   "name": "python3",
   "display_name": "Python 3"
  }
 },
 "nbformat": 4,
 "nbformat_minor": 2,
 "cells": [
  {
   "cell_type": "code",
   "execution_count": 65,
   "metadata": {},
   "outputs": [],
   "source": [
    "import pandas as pd \n",
    "import os"
   ]
  },
  {
   "cell_type": "code",
   "execution_count": 66,
   "metadata": {},
   "outputs": [],
   "source": [
    "#Segun imports dependancies \n",
    "from sqlalchemy import create_engine\n",
    "# import psycopg2\n",
    "# import pandas as pd\n",
    "from passwords import password"
   ]
  },
  {
   "cell_type": "code",
   "execution_count": 67,
   "metadata": {},
   "outputs": [
    {
     "output_type": "execute_result",
     "data": {
      "text/plain": [
       "   year    state state_po  state_fips  state_cen  state_ic        office  \\\n",
       "0  1976  Alabama       AL           1         63        41  US President   \n",
       "1  1976  Alabama       AL           1         63        41  US President   \n",
       "2  1976  Alabama       AL           1         63        41  US President   \n",
       "3  1976  Alabama       AL           1         63        41  US President   \n",
       "4  1976  Alabama       AL           1         63        41  US President   \n",
       "\n",
       "                 candidate                       party  writein  \\\n",
       "0            Carter, Jimmy                    democrat    False   \n",
       "1             Ford, Gerald                  republican    False   \n",
       "2           Maddox, Lester  american independent party    False   \n",
       "3  Bubar, Benjamin \"\"Ben\"\"                 prohibition    False   \n",
       "4                Hall, Gus         communist party use    False   \n",
       "\n",
       "   candidatevotes  totalvotes   version  notes  \n",
       "0          659170     1182850  20171015    NaN  \n",
       "1          504070     1182850  20171015    NaN  \n",
       "2            9198     1182850  20171015    NaN  \n",
       "3            6669     1182850  20171015    NaN  \n",
       "4            1954     1182850  20171015    NaN  "
      ],
      "text/html": "<div>\n<style scoped>\n    .dataframe tbody tr th:only-of-type {\n        vertical-align: middle;\n    }\n\n    .dataframe tbody tr th {\n        vertical-align: top;\n    }\n\n    .dataframe thead th {\n        text-align: right;\n    }\n</style>\n<table border=\"1\" class=\"dataframe\">\n  <thead>\n    <tr style=\"text-align: right;\">\n      <th></th>\n      <th>year</th>\n      <th>state</th>\n      <th>state_po</th>\n      <th>state_fips</th>\n      <th>state_cen</th>\n      <th>state_ic</th>\n      <th>office</th>\n      <th>candidate</th>\n      <th>party</th>\n      <th>writein</th>\n      <th>candidatevotes</th>\n      <th>totalvotes</th>\n      <th>version</th>\n      <th>notes</th>\n    </tr>\n  </thead>\n  <tbody>\n    <tr>\n      <th>0</th>\n      <td>1976</td>\n      <td>Alabama</td>\n      <td>AL</td>\n      <td>1</td>\n      <td>63</td>\n      <td>41</td>\n      <td>US President</td>\n      <td>Carter, Jimmy</td>\n      <td>democrat</td>\n      <td>False</td>\n      <td>659170</td>\n      <td>1182850</td>\n      <td>20171015</td>\n      <td>NaN</td>\n    </tr>\n    <tr>\n      <th>1</th>\n      <td>1976</td>\n      <td>Alabama</td>\n      <td>AL</td>\n      <td>1</td>\n      <td>63</td>\n      <td>41</td>\n      <td>US President</td>\n      <td>Ford, Gerald</td>\n      <td>republican</td>\n      <td>False</td>\n      <td>504070</td>\n      <td>1182850</td>\n      <td>20171015</td>\n      <td>NaN</td>\n    </tr>\n    <tr>\n      <th>2</th>\n      <td>1976</td>\n      <td>Alabama</td>\n      <td>AL</td>\n      <td>1</td>\n      <td>63</td>\n      <td>41</td>\n      <td>US President</td>\n      <td>Maddox, Lester</td>\n      <td>american independent party</td>\n      <td>False</td>\n      <td>9198</td>\n      <td>1182850</td>\n      <td>20171015</td>\n      <td>NaN</td>\n    </tr>\n    <tr>\n      <th>3</th>\n      <td>1976</td>\n      <td>Alabama</td>\n      <td>AL</td>\n      <td>1</td>\n      <td>63</td>\n      <td>41</td>\n      <td>US President</td>\n      <td>Bubar, Benjamin \"\"Ben\"\"</td>\n      <td>prohibition</td>\n      <td>False</td>\n      <td>6669</td>\n      <td>1182850</td>\n      <td>20171015</td>\n      <td>NaN</td>\n    </tr>\n    <tr>\n      <th>4</th>\n      <td>1976</td>\n      <td>Alabama</td>\n      <td>AL</td>\n      <td>1</td>\n      <td>63</td>\n      <td>41</td>\n      <td>US President</td>\n      <td>Hall, Gus</td>\n      <td>communist party use</td>\n      <td>False</td>\n      <td>1954</td>\n      <td>1182850</td>\n      <td>20171015</td>\n      <td>NaN</td>\n    </tr>\n  </tbody>\n</table>\n</div>"
     },
     "metadata": {},
     "execution_count": 67
    }
   ],
   "source": [
    "#jz work begins \n",
    "file_to_load = \"data/president.csv\"\n",
    "election_r = pd.read_csv(file_to_load)\n",
    "election_r.head()"
   ]
  },
  {
   "cell_type": "code",
   "execution_count": 68,
   "metadata": {},
   "outputs": [],
   "source": [
    "election_df = election_r.drop(['state_fips','state_cen','state_ic','office','version','notes'],axis=1)\n",
    "election_df = election_df.dropna(subset=['candidate'])\n",
    "election2000_df = election_df[election_df.year == 2000]\n",
    "Republican2000_df = election2000_df[election2000_df.party == 'republican']\n",
    "Democrat2000_df = election2000_df[election2000_df.party == 'democrat']\n",
    "\n",
    "\n",
    "election2004_df = election_df[election_df.year == 2004]\n",
    "Democrat2004_df = election2004_df[election2004_df.party == 'democrat']\n",
    "Republican2004_df = election2004_df[election2004_df.party == 'republican']\n",
    "\n",
    "\n",
    "election2008_df = election_df[election_df.year == 2008]\n",
    "Democrat2008_df = election2008_df[election2008_df.party == 'democrat']\n",
    "Republican2008_df = election2008_df[election2008_df.party == 'republican']\n",
    "\n",
    "election2012_df = election_df[election_df.year == 2012]\n",
    "Democrat2012_df = election2012_df[election2012_df.party == 'democrat']\n",
    "Republican2012_df = election2012_df[election2012_df.party == 'republican']\n",
    "\n",
    "election2016_df = election_df[election_df.year == 2016]\n",
    "Republican2016_df = election2016_df[election2016_df.party == 'republican']\n",
    "Democrat2016_df = election2016_df[election2016_df.party == 'democrat']\n",
    "\n"
   ]
  },
  {
   "cell_type": "code",
   "execution_count": 69,
   "metadata": {},
   "outputs": [
    {
     "output_type": "execute_result",
     "data": {
      "text/plain": [
       "      year       state state_po        candidate       party  writein  \\\n",
       "2042  2000     Alabama       AL  Bush, George W.  republican    False   \n",
       "2047  2000      Alaska       AK  Bush, George W.  republican    False   \n",
       "2055  2000     Arizona       AZ  Bush, George W.  republican    False   \n",
       "2062  2000    Arkansas       AR  Bush, George W.  republican    False   \n",
       "2070  2000  California       CA  Bush, George W.  republican    False   \n",
       "\n",
       "      candidatevotes  totalvotes  \n",
       "2042          941173     1666272  \n",
       "2047          167398      285560  \n",
       "2055          781652     1532016  \n",
       "2062          472940      921781  \n",
       "2070         4567429    10965822  "
      ],
      "text/html": "<div>\n<style scoped>\n    .dataframe tbody tr th:only-of-type {\n        vertical-align: middle;\n    }\n\n    .dataframe tbody tr th {\n        vertical-align: top;\n    }\n\n    .dataframe thead th {\n        text-align: right;\n    }\n</style>\n<table border=\"1\" class=\"dataframe\">\n  <thead>\n    <tr style=\"text-align: right;\">\n      <th></th>\n      <th>year</th>\n      <th>state</th>\n      <th>state_po</th>\n      <th>candidate</th>\n      <th>party</th>\n      <th>writein</th>\n      <th>candidatevotes</th>\n      <th>totalvotes</th>\n    </tr>\n  </thead>\n  <tbody>\n    <tr>\n      <th>2042</th>\n      <td>2000</td>\n      <td>Alabama</td>\n      <td>AL</td>\n      <td>Bush, George W.</td>\n      <td>republican</td>\n      <td>False</td>\n      <td>941173</td>\n      <td>1666272</td>\n    </tr>\n    <tr>\n      <th>2047</th>\n      <td>2000</td>\n      <td>Alaska</td>\n      <td>AK</td>\n      <td>Bush, George W.</td>\n      <td>republican</td>\n      <td>False</td>\n      <td>167398</td>\n      <td>285560</td>\n    </tr>\n    <tr>\n      <th>2055</th>\n      <td>2000</td>\n      <td>Arizona</td>\n      <td>AZ</td>\n      <td>Bush, George W.</td>\n      <td>republican</td>\n      <td>False</td>\n      <td>781652</td>\n      <td>1532016</td>\n    </tr>\n    <tr>\n      <th>2062</th>\n      <td>2000</td>\n      <td>Arkansas</td>\n      <td>AR</td>\n      <td>Bush, George W.</td>\n      <td>republican</td>\n      <td>False</td>\n      <td>472940</td>\n      <td>921781</td>\n    </tr>\n    <tr>\n      <th>2070</th>\n      <td>2000</td>\n      <td>California</td>\n      <td>CA</td>\n      <td>Bush, George W.</td>\n      <td>republican</td>\n      <td>False</td>\n      <td>4567429</td>\n      <td>10965822</td>\n    </tr>\n  </tbody>\n</table>\n</div>"
     },
     "metadata": {},
     "execution_count": 69
    }
   ],
   "source": [
    "Republican2000_df.head()"
   ]
  },
  {
   "cell_type": "code",
   "execution_count": 70,
   "metadata": {},
   "outputs": [
    {
     "output_type": "execute_result",
     "data": {
      "text/plain": [
       "   year_Rep       state state_po_Rep    candidate_Rep   party_Rep  \\\n",
       "0      2000     Alabama           AL  Bush, George W.  republican   \n",
       "1      2000      Alaska           AK  Bush, George W.  republican   \n",
       "2      2000     Arizona           AZ  Bush, George W.  republican   \n",
       "3      2000    Arkansas           AR  Bush, George W.  republican   \n",
       "4      2000  California           CA  Bush, George W.  republican   \n",
       "\n",
       "   writein_Rep  candidatevotes_Rep  totalvotes_Rep  year_Dem state_po_Dem  \\\n",
       "0        False              941173         1666272      2000           AL   \n",
       "1        False              167398          285560      2000           AK   \n",
       "2        False              781652         1532016      2000           AZ   \n",
       "3        False              472940          921781      2000           AR   \n",
       "4        False             4567429        10965822      2000           CA   \n",
       "\n",
       "  candidate_Dem party_Dem  writein_Dem  candidatevotes_Dem  totalvotes_Dem  \n",
       "0      Gore, Al  democrat        False              692611         1666272  \n",
       "1      Gore, Al  democrat        False               79004          285560  \n",
       "2      Gore, Al  democrat        False              685341         1532016  \n",
       "3      Gore, Al  democrat        False              422768          921781  \n",
       "4      Gore, Al  democrat        False             5861203        10965822  "
      ],
      "text/html": "<div>\n<style scoped>\n    .dataframe tbody tr th:only-of-type {\n        vertical-align: middle;\n    }\n\n    .dataframe tbody tr th {\n        vertical-align: top;\n    }\n\n    .dataframe thead th {\n        text-align: right;\n    }\n</style>\n<table border=\"1\" class=\"dataframe\">\n  <thead>\n    <tr style=\"text-align: right;\">\n      <th></th>\n      <th>year_Rep</th>\n      <th>state</th>\n      <th>state_po_Rep</th>\n      <th>candidate_Rep</th>\n      <th>party_Rep</th>\n      <th>writein_Rep</th>\n      <th>candidatevotes_Rep</th>\n      <th>totalvotes_Rep</th>\n      <th>year_Dem</th>\n      <th>state_po_Dem</th>\n      <th>candidate_Dem</th>\n      <th>party_Dem</th>\n      <th>writein_Dem</th>\n      <th>candidatevotes_Dem</th>\n      <th>totalvotes_Dem</th>\n    </tr>\n  </thead>\n  <tbody>\n    <tr>\n      <th>0</th>\n      <td>2000</td>\n      <td>Alabama</td>\n      <td>AL</td>\n      <td>Bush, George W.</td>\n      <td>republican</td>\n      <td>False</td>\n      <td>941173</td>\n      <td>1666272</td>\n      <td>2000</td>\n      <td>AL</td>\n      <td>Gore, Al</td>\n      <td>democrat</td>\n      <td>False</td>\n      <td>692611</td>\n      <td>1666272</td>\n    </tr>\n    <tr>\n      <th>1</th>\n      <td>2000</td>\n      <td>Alaska</td>\n      <td>AK</td>\n      <td>Bush, George W.</td>\n      <td>republican</td>\n      <td>False</td>\n      <td>167398</td>\n      <td>285560</td>\n      <td>2000</td>\n      <td>AK</td>\n      <td>Gore, Al</td>\n      <td>democrat</td>\n      <td>False</td>\n      <td>79004</td>\n      <td>285560</td>\n    </tr>\n    <tr>\n      <th>2</th>\n      <td>2000</td>\n      <td>Arizona</td>\n      <td>AZ</td>\n      <td>Bush, George W.</td>\n      <td>republican</td>\n      <td>False</td>\n      <td>781652</td>\n      <td>1532016</td>\n      <td>2000</td>\n      <td>AZ</td>\n      <td>Gore, Al</td>\n      <td>democrat</td>\n      <td>False</td>\n      <td>685341</td>\n      <td>1532016</td>\n    </tr>\n    <tr>\n      <th>3</th>\n      <td>2000</td>\n      <td>Arkansas</td>\n      <td>AR</td>\n      <td>Bush, George W.</td>\n      <td>republican</td>\n      <td>False</td>\n      <td>472940</td>\n      <td>921781</td>\n      <td>2000</td>\n      <td>AR</td>\n      <td>Gore, Al</td>\n      <td>democrat</td>\n      <td>False</td>\n      <td>422768</td>\n      <td>921781</td>\n    </tr>\n    <tr>\n      <th>4</th>\n      <td>2000</td>\n      <td>California</td>\n      <td>CA</td>\n      <td>Bush, George W.</td>\n      <td>republican</td>\n      <td>False</td>\n      <td>4567429</td>\n      <td>10965822</td>\n      <td>2000</td>\n      <td>CA</td>\n      <td>Gore, Al</td>\n      <td>democrat</td>\n      <td>False</td>\n      <td>5861203</td>\n      <td>10965822</td>\n    </tr>\n  </tbody>\n</table>\n</div>"
     },
     "metadata": {},
     "execution_count": 70
    }
   ],
   "source": [
    "merge_df_2000 = pd.merge(Republican2000_df, Democrat2000_df, on=\"state\", suffixes=(\"_Rep\", \"_Dem\"))\n",
    "merge_df_2000.head()"
   ]
  },
  {
   "cell_type": "code",
   "execution_count": 71,
   "metadata": {},
   "outputs": [
    {
     "output_type": "execute_result",
     "data": {
      "text/plain": [
       "   year_Rep       state state_po_Rep    candidate_Rep   party_Rep  \\\n",
       "0      2000     Alabama           AL  Bush, George W.  republican   \n",
       "1      2000      Alaska           AK  Bush, George W.  republican   \n",
       "2      2000     Arizona           AZ  Bush, George W.  republican   \n",
       "3      2000    Arkansas           AR  Bush, George W.  republican   \n",
       "4      2000  California           CA  Bush, George W.  republican   \n",
       "\n",
       "   candidatevotes_Rep state_po_Dem candidate_Dem party_Dem  \\\n",
       "0              941173           AL      Gore, Al  democrat   \n",
       "1              167398           AK      Gore, Al  democrat   \n",
       "2              781652           AZ      Gore, Al  democrat   \n",
       "3              472940           AR      Gore, Al  democrat   \n",
       "4             4567429           CA      Gore, Al  democrat   \n",
       "\n",
       "   candidatevotes_Dem  totalvotes_Dem  \n",
       "0              692611         1666272  \n",
       "1               79004          285560  \n",
       "2              685341         1532016  \n",
       "3              422768          921781  \n",
       "4             5861203        10965822  "
      ],
      "text/html": "<div>\n<style scoped>\n    .dataframe tbody tr th:only-of-type {\n        vertical-align: middle;\n    }\n\n    .dataframe tbody tr th {\n        vertical-align: top;\n    }\n\n    .dataframe thead th {\n        text-align: right;\n    }\n</style>\n<table border=\"1\" class=\"dataframe\">\n  <thead>\n    <tr style=\"text-align: right;\">\n      <th></th>\n      <th>year_Rep</th>\n      <th>state</th>\n      <th>state_po_Rep</th>\n      <th>candidate_Rep</th>\n      <th>party_Rep</th>\n      <th>candidatevotes_Rep</th>\n      <th>state_po_Dem</th>\n      <th>candidate_Dem</th>\n      <th>party_Dem</th>\n      <th>candidatevotes_Dem</th>\n      <th>totalvotes_Dem</th>\n    </tr>\n  </thead>\n  <tbody>\n    <tr>\n      <th>0</th>\n      <td>2000</td>\n      <td>Alabama</td>\n      <td>AL</td>\n      <td>Bush, George W.</td>\n      <td>republican</td>\n      <td>941173</td>\n      <td>AL</td>\n      <td>Gore, Al</td>\n      <td>democrat</td>\n      <td>692611</td>\n      <td>1666272</td>\n    </tr>\n    <tr>\n      <th>1</th>\n      <td>2000</td>\n      <td>Alaska</td>\n      <td>AK</td>\n      <td>Bush, George W.</td>\n      <td>republican</td>\n      <td>167398</td>\n      <td>AK</td>\n      <td>Gore, Al</td>\n      <td>democrat</td>\n      <td>79004</td>\n      <td>285560</td>\n    </tr>\n    <tr>\n      <th>2</th>\n      <td>2000</td>\n      <td>Arizona</td>\n      <td>AZ</td>\n      <td>Bush, George W.</td>\n      <td>republican</td>\n      <td>781652</td>\n      <td>AZ</td>\n      <td>Gore, Al</td>\n      <td>democrat</td>\n      <td>685341</td>\n      <td>1532016</td>\n    </tr>\n    <tr>\n      <th>3</th>\n      <td>2000</td>\n      <td>Arkansas</td>\n      <td>AR</td>\n      <td>Bush, George W.</td>\n      <td>republican</td>\n      <td>472940</td>\n      <td>AR</td>\n      <td>Gore, Al</td>\n      <td>democrat</td>\n      <td>422768</td>\n      <td>921781</td>\n    </tr>\n    <tr>\n      <th>4</th>\n      <td>2000</td>\n      <td>California</td>\n      <td>CA</td>\n      <td>Bush, George W.</td>\n      <td>republican</td>\n      <td>4567429</td>\n      <td>CA</td>\n      <td>Gore, Al</td>\n      <td>democrat</td>\n      <td>5861203</td>\n      <td>10965822</td>\n    </tr>\n  </tbody>\n</table>\n</div>"
     },
     "metadata": {},
     "execution_count": 71
    }
   ],
   "source": [
    "merge_df_2000=merge_df_2000.drop(columns=['writein_Rep', 'writein_Dem', 'totalvotes_Rep', 'year_Dem'])\n",
    "merge_df_2000.head()"
   ]
  },
  {
   "cell_type": "code",
   "execution_count": 72,
   "metadata": {},
   "outputs": [
    {
     "output_type": "execute_result",
     "data": {
      "text/plain": [
       "   year       state state_po_Rep    candidate_Rep   party_Rep  \\\n",
       "0  2000     Alabama           AL  Bush, George W.  republican   \n",
       "1  2000      Alaska           AK  Bush, George W.  republican   \n",
       "2  2000     Arizona           AZ  Bush, George W.  republican   \n",
       "3  2000    Arkansas           AR  Bush, George W.  republican   \n",
       "4  2000  California           CA  Bush, George W.  republican   \n",
       "\n",
       "   candidatevotes_Rep state_po_Dem candidate_Dem party_Dem  \\\n",
       "0              941173           AL      Gore, Al  democrat   \n",
       "1              167398           AK      Gore, Al  democrat   \n",
       "2              781652           AZ      Gore, Al  democrat   \n",
       "3              472940           AR      Gore, Al  democrat   \n",
       "4             4567429           CA      Gore, Al  democrat   \n",
       "\n",
       "   candidatevotes_Dem  totalvotes  \n",
       "0              692611     1666272  \n",
       "1               79004      285560  \n",
       "2              685341     1532016  \n",
       "3              422768      921781  \n",
       "4             5861203    10965822  "
      ],
      "text/html": "<div>\n<style scoped>\n    .dataframe tbody tr th:only-of-type {\n        vertical-align: middle;\n    }\n\n    .dataframe tbody tr th {\n        vertical-align: top;\n    }\n\n    .dataframe thead th {\n        text-align: right;\n    }\n</style>\n<table border=\"1\" class=\"dataframe\">\n  <thead>\n    <tr style=\"text-align: right;\">\n      <th></th>\n      <th>year</th>\n      <th>state</th>\n      <th>state_po_Rep</th>\n      <th>candidate_Rep</th>\n      <th>party_Rep</th>\n      <th>candidatevotes_Rep</th>\n      <th>state_po_Dem</th>\n      <th>candidate_Dem</th>\n      <th>party_Dem</th>\n      <th>candidatevotes_Dem</th>\n      <th>totalvotes</th>\n    </tr>\n  </thead>\n  <tbody>\n    <tr>\n      <th>0</th>\n      <td>2000</td>\n      <td>Alabama</td>\n      <td>AL</td>\n      <td>Bush, George W.</td>\n      <td>republican</td>\n      <td>941173</td>\n      <td>AL</td>\n      <td>Gore, Al</td>\n      <td>democrat</td>\n      <td>692611</td>\n      <td>1666272</td>\n    </tr>\n    <tr>\n      <th>1</th>\n      <td>2000</td>\n      <td>Alaska</td>\n      <td>AK</td>\n      <td>Bush, George W.</td>\n      <td>republican</td>\n      <td>167398</td>\n      <td>AK</td>\n      <td>Gore, Al</td>\n      <td>democrat</td>\n      <td>79004</td>\n      <td>285560</td>\n    </tr>\n    <tr>\n      <th>2</th>\n      <td>2000</td>\n      <td>Arizona</td>\n      <td>AZ</td>\n      <td>Bush, George W.</td>\n      <td>republican</td>\n      <td>781652</td>\n      <td>AZ</td>\n      <td>Gore, Al</td>\n      <td>democrat</td>\n      <td>685341</td>\n      <td>1532016</td>\n    </tr>\n    <tr>\n      <th>3</th>\n      <td>2000</td>\n      <td>Arkansas</td>\n      <td>AR</td>\n      <td>Bush, George W.</td>\n      <td>republican</td>\n      <td>472940</td>\n      <td>AR</td>\n      <td>Gore, Al</td>\n      <td>democrat</td>\n      <td>422768</td>\n      <td>921781</td>\n    </tr>\n    <tr>\n      <th>4</th>\n      <td>2000</td>\n      <td>California</td>\n      <td>CA</td>\n      <td>Bush, George W.</td>\n      <td>republican</td>\n      <td>4567429</td>\n      <td>CA</td>\n      <td>Gore, Al</td>\n      <td>democrat</td>\n      <td>5861203</td>\n      <td>10965822</td>\n    </tr>\n  </tbody>\n</table>\n</div>"
     },
     "metadata": {},
     "execution_count": 72
    }
   ],
   "source": [
    "merge_df_2000=merge_df_2000.rename(columns={\"totalvotes_Dem\":\"totalvotes\", \"year_Rep\":\"year\"})\n",
    "merge_df_2000.head()"
   ]
  },
  {
   "cell_type": "code",
   "execution_count": 73,
   "metadata": {},
   "outputs": [],
   "source": [
    "merge_df_2000.to_csv('merge_df_2000.csv')"
   ]
  },
  {
   "cell_type": "code",
   "execution_count": 74,
   "metadata": {},
   "outputs": [
    {
     "output_type": "execute_result",
     "data": {
      "text/plain": [
       "   year_Rep       state state_po_Rep    candidate_Rep   party_Rep  \\\n",
       "0      2004     Alabama           AL  Bush, George W.  republican   \n",
       "1      2004      Alaska           AK  Bush, George W.  republican   \n",
       "2      2004     Arizona           AZ  Bush, George W.  republican   \n",
       "3      2004    Arkansas           AR  Bush, George W.  republican   \n",
       "4      2004  California           CA  Bush, George W.  republican   \n",
       "\n",
       "   writein_Rep  candidatevotes_Rep  totalvotes_Rep  year_Dem state_po_Dem  \\\n",
       "0        False             1176394         1883415      2004           AL   \n",
       "1        False              190889          312598      2004           AK   \n",
       "2        False             1104294         2012585      2004           AZ   \n",
       "3        False              572898         1054945      2004           AR   \n",
       "4        False             5509826        12421353      2004           CA   \n",
       "\n",
       "  candidate_Dem party_Dem  writein_Dem  candidatevotes_Dem  totalvotes_Dem  \n",
       "0   Kerry, John  democrat        False              693933         1883415  \n",
       "1   Kerry, John  democrat        False              111025          312598  \n",
       "2   Kerry, John  democrat        False              893524         2012585  \n",
       "3   Kerry, John  democrat        False              469953         1054945  \n",
       "4   Kerry, John  democrat        False             6745485        12421353  "
      ],
      "text/html": "<div>\n<style scoped>\n    .dataframe tbody tr th:only-of-type {\n        vertical-align: middle;\n    }\n\n    .dataframe tbody tr th {\n        vertical-align: top;\n    }\n\n    .dataframe thead th {\n        text-align: right;\n    }\n</style>\n<table border=\"1\" class=\"dataframe\">\n  <thead>\n    <tr style=\"text-align: right;\">\n      <th></th>\n      <th>year_Rep</th>\n      <th>state</th>\n      <th>state_po_Rep</th>\n      <th>candidate_Rep</th>\n      <th>party_Rep</th>\n      <th>writein_Rep</th>\n      <th>candidatevotes_Rep</th>\n      <th>totalvotes_Rep</th>\n      <th>year_Dem</th>\n      <th>state_po_Dem</th>\n      <th>candidate_Dem</th>\n      <th>party_Dem</th>\n      <th>writein_Dem</th>\n      <th>candidatevotes_Dem</th>\n      <th>totalvotes_Dem</th>\n    </tr>\n  </thead>\n  <tbody>\n    <tr>\n      <th>0</th>\n      <td>2004</td>\n      <td>Alabama</td>\n      <td>AL</td>\n      <td>Bush, George W.</td>\n      <td>republican</td>\n      <td>False</td>\n      <td>1176394</td>\n      <td>1883415</td>\n      <td>2004</td>\n      <td>AL</td>\n      <td>Kerry, John</td>\n      <td>democrat</td>\n      <td>False</td>\n      <td>693933</td>\n      <td>1883415</td>\n    </tr>\n    <tr>\n      <th>1</th>\n      <td>2004</td>\n      <td>Alaska</td>\n      <td>AK</td>\n      <td>Bush, George W.</td>\n      <td>republican</td>\n      <td>False</td>\n      <td>190889</td>\n      <td>312598</td>\n      <td>2004</td>\n      <td>AK</td>\n      <td>Kerry, John</td>\n      <td>democrat</td>\n      <td>False</td>\n      <td>111025</td>\n      <td>312598</td>\n    </tr>\n    <tr>\n      <th>2</th>\n      <td>2004</td>\n      <td>Arizona</td>\n      <td>AZ</td>\n      <td>Bush, George W.</td>\n      <td>republican</td>\n      <td>False</td>\n      <td>1104294</td>\n      <td>2012585</td>\n      <td>2004</td>\n      <td>AZ</td>\n      <td>Kerry, John</td>\n      <td>democrat</td>\n      <td>False</td>\n      <td>893524</td>\n      <td>2012585</td>\n    </tr>\n    <tr>\n      <th>3</th>\n      <td>2004</td>\n      <td>Arkansas</td>\n      <td>AR</td>\n      <td>Bush, George W.</td>\n      <td>republican</td>\n      <td>False</td>\n      <td>572898</td>\n      <td>1054945</td>\n      <td>2004</td>\n      <td>AR</td>\n      <td>Kerry, John</td>\n      <td>democrat</td>\n      <td>False</td>\n      <td>469953</td>\n      <td>1054945</td>\n    </tr>\n    <tr>\n      <th>4</th>\n      <td>2004</td>\n      <td>California</td>\n      <td>CA</td>\n      <td>Bush, George W.</td>\n      <td>republican</td>\n      <td>False</td>\n      <td>5509826</td>\n      <td>12421353</td>\n      <td>2004</td>\n      <td>CA</td>\n      <td>Kerry, John</td>\n      <td>democrat</td>\n      <td>False</td>\n      <td>6745485</td>\n      <td>12421353</td>\n    </tr>\n  </tbody>\n</table>\n</div>"
     },
     "metadata": {},
     "execution_count": 74
    }
   ],
   "source": [
    "merge_df_2004 = pd.merge(Republican2004_df, Democrat2004_df, on=\"state\", suffixes=(\"_Rep\", \"_Dem\"))\n",
    "merge_df_2004.head()"
   ]
  },
  {
   "cell_type": "code",
   "execution_count": 75,
   "metadata": {},
   "outputs": [
    {
     "output_type": "execute_result",
     "data": {
      "text/plain": [
       "   year_Rep       state state_po_Rep    candidate_Rep   party_Rep  \\\n",
       "0      2004     Alabama           AL  Bush, George W.  republican   \n",
       "1      2004      Alaska           AK  Bush, George W.  republican   \n",
       "2      2004     Arizona           AZ  Bush, George W.  republican   \n",
       "3      2004    Arkansas           AR  Bush, George W.  republican   \n",
       "4      2004  California           CA  Bush, George W.  republican   \n",
       "\n",
       "   candidatevotes_Rep state_po_Dem candidate_Dem party_Dem  \\\n",
       "0             1176394           AL   Kerry, John  democrat   \n",
       "1              190889           AK   Kerry, John  democrat   \n",
       "2             1104294           AZ   Kerry, John  democrat   \n",
       "3              572898           AR   Kerry, John  democrat   \n",
       "4             5509826           CA   Kerry, John  democrat   \n",
       "\n",
       "   candidatevotes_Dem  totalvotes_Dem  \n",
       "0              693933         1883415  \n",
       "1              111025          312598  \n",
       "2              893524         2012585  \n",
       "3              469953         1054945  \n",
       "4             6745485        12421353  "
      ],
      "text/html": "<div>\n<style scoped>\n    .dataframe tbody tr th:only-of-type {\n        vertical-align: middle;\n    }\n\n    .dataframe tbody tr th {\n        vertical-align: top;\n    }\n\n    .dataframe thead th {\n        text-align: right;\n    }\n</style>\n<table border=\"1\" class=\"dataframe\">\n  <thead>\n    <tr style=\"text-align: right;\">\n      <th></th>\n      <th>year_Rep</th>\n      <th>state</th>\n      <th>state_po_Rep</th>\n      <th>candidate_Rep</th>\n      <th>party_Rep</th>\n      <th>candidatevotes_Rep</th>\n      <th>state_po_Dem</th>\n      <th>candidate_Dem</th>\n      <th>party_Dem</th>\n      <th>candidatevotes_Dem</th>\n      <th>totalvotes_Dem</th>\n    </tr>\n  </thead>\n  <tbody>\n    <tr>\n      <th>0</th>\n      <td>2004</td>\n      <td>Alabama</td>\n      <td>AL</td>\n      <td>Bush, George W.</td>\n      <td>republican</td>\n      <td>1176394</td>\n      <td>AL</td>\n      <td>Kerry, John</td>\n      <td>democrat</td>\n      <td>693933</td>\n      <td>1883415</td>\n    </tr>\n    <tr>\n      <th>1</th>\n      <td>2004</td>\n      <td>Alaska</td>\n      <td>AK</td>\n      <td>Bush, George W.</td>\n      <td>republican</td>\n      <td>190889</td>\n      <td>AK</td>\n      <td>Kerry, John</td>\n      <td>democrat</td>\n      <td>111025</td>\n      <td>312598</td>\n    </tr>\n    <tr>\n      <th>2</th>\n      <td>2004</td>\n      <td>Arizona</td>\n      <td>AZ</td>\n      <td>Bush, George W.</td>\n      <td>republican</td>\n      <td>1104294</td>\n      <td>AZ</td>\n      <td>Kerry, John</td>\n      <td>democrat</td>\n      <td>893524</td>\n      <td>2012585</td>\n    </tr>\n    <tr>\n      <th>3</th>\n      <td>2004</td>\n      <td>Arkansas</td>\n      <td>AR</td>\n      <td>Bush, George W.</td>\n      <td>republican</td>\n      <td>572898</td>\n      <td>AR</td>\n      <td>Kerry, John</td>\n      <td>democrat</td>\n      <td>469953</td>\n      <td>1054945</td>\n    </tr>\n    <tr>\n      <th>4</th>\n      <td>2004</td>\n      <td>California</td>\n      <td>CA</td>\n      <td>Bush, George W.</td>\n      <td>republican</td>\n      <td>5509826</td>\n      <td>CA</td>\n      <td>Kerry, John</td>\n      <td>democrat</td>\n      <td>6745485</td>\n      <td>12421353</td>\n    </tr>\n  </tbody>\n</table>\n</div>"
     },
     "metadata": {},
     "execution_count": 75
    }
   ],
   "source": [
    "merge_df_2004=merge_df_2004.drop(columns=['writein_Rep', 'writein_Dem', 'totalvotes_Rep', 'year_Dem'])\n",
    "merge_df_2004.head()"
   ]
  },
  {
   "cell_type": "code",
   "execution_count": 76,
   "metadata": {},
   "outputs": [
    {
     "output_type": "execute_result",
     "data": {
      "text/plain": [
       "   year       state state_po_Rep    candidate_Rep   party_Rep  \\\n",
       "0  2004     Alabama           AL  Bush, George W.  republican   \n",
       "1  2004      Alaska           AK  Bush, George W.  republican   \n",
       "2  2004     Arizona           AZ  Bush, George W.  republican   \n",
       "3  2004    Arkansas           AR  Bush, George W.  republican   \n",
       "4  2004  California           CA  Bush, George W.  republican   \n",
       "\n",
       "   candidatevotes_Rep state_po_Dem candidate_Dem party_Dem  \\\n",
       "0             1176394           AL   Kerry, John  democrat   \n",
       "1              190889           AK   Kerry, John  democrat   \n",
       "2             1104294           AZ   Kerry, John  democrat   \n",
       "3              572898           AR   Kerry, John  democrat   \n",
       "4             5509826           CA   Kerry, John  democrat   \n",
       "\n",
       "   candidatevotes_Dem  totalvotes  \n",
       "0              693933     1883415  \n",
       "1              111025      312598  \n",
       "2              893524     2012585  \n",
       "3              469953     1054945  \n",
       "4             6745485    12421353  "
      ],
      "text/html": "<div>\n<style scoped>\n    .dataframe tbody tr th:only-of-type {\n        vertical-align: middle;\n    }\n\n    .dataframe tbody tr th {\n        vertical-align: top;\n    }\n\n    .dataframe thead th {\n        text-align: right;\n    }\n</style>\n<table border=\"1\" class=\"dataframe\">\n  <thead>\n    <tr style=\"text-align: right;\">\n      <th></th>\n      <th>year</th>\n      <th>state</th>\n      <th>state_po_Rep</th>\n      <th>candidate_Rep</th>\n      <th>party_Rep</th>\n      <th>candidatevotes_Rep</th>\n      <th>state_po_Dem</th>\n      <th>candidate_Dem</th>\n      <th>party_Dem</th>\n      <th>candidatevotes_Dem</th>\n      <th>totalvotes</th>\n    </tr>\n  </thead>\n  <tbody>\n    <tr>\n      <th>0</th>\n      <td>2004</td>\n      <td>Alabama</td>\n      <td>AL</td>\n      <td>Bush, George W.</td>\n      <td>republican</td>\n      <td>1176394</td>\n      <td>AL</td>\n      <td>Kerry, John</td>\n      <td>democrat</td>\n      <td>693933</td>\n      <td>1883415</td>\n    </tr>\n    <tr>\n      <th>1</th>\n      <td>2004</td>\n      <td>Alaska</td>\n      <td>AK</td>\n      <td>Bush, George W.</td>\n      <td>republican</td>\n      <td>190889</td>\n      <td>AK</td>\n      <td>Kerry, John</td>\n      <td>democrat</td>\n      <td>111025</td>\n      <td>312598</td>\n    </tr>\n    <tr>\n      <th>2</th>\n      <td>2004</td>\n      <td>Arizona</td>\n      <td>AZ</td>\n      <td>Bush, George W.</td>\n      <td>republican</td>\n      <td>1104294</td>\n      <td>AZ</td>\n      <td>Kerry, John</td>\n      <td>democrat</td>\n      <td>893524</td>\n      <td>2012585</td>\n    </tr>\n    <tr>\n      <th>3</th>\n      <td>2004</td>\n      <td>Arkansas</td>\n      <td>AR</td>\n      <td>Bush, George W.</td>\n      <td>republican</td>\n      <td>572898</td>\n      <td>AR</td>\n      <td>Kerry, John</td>\n      <td>democrat</td>\n      <td>469953</td>\n      <td>1054945</td>\n    </tr>\n    <tr>\n      <th>4</th>\n      <td>2004</td>\n      <td>California</td>\n      <td>CA</td>\n      <td>Bush, George W.</td>\n      <td>republican</td>\n      <td>5509826</td>\n      <td>CA</td>\n      <td>Kerry, John</td>\n      <td>democrat</td>\n      <td>6745485</td>\n      <td>12421353</td>\n    </tr>\n  </tbody>\n</table>\n</div>"
     },
     "metadata": {},
     "execution_count": 76
    }
   ],
   "source": [
    "merge_df_2004=merge_df_2004.rename(columns={\"totalvotes_Dem\":\"totalvotes\", \"year_Rep\":\"year\"})\n",
    "merge_df_2004.head()"
   ]
  },
  {
   "cell_type": "code",
   "execution_count": 77,
   "metadata": {},
   "outputs": [],
   "source": [
    "merge_df_2004.to_csv('merge_df_2004.csv')"
   ]
  },
  {
   "cell_type": "code",
   "execution_count": 78,
   "metadata": {},
   "outputs": [
    {
     "output_type": "execute_result",
     "data": {
      "text/plain": [
       "   year_Rep       state state_po_Rep candidate_Rep   party_Rep  writein_Rep  \\\n",
       "0      2008     Alabama           AL  McCain, John  republican        False   \n",
       "1      2008      Alaska           AK  McCain, John  republican        False   \n",
       "2      2008     Arizona           AZ  McCain, John  republican        False   \n",
       "3      2008    Arkansas           AR  McCain, John  republican        False   \n",
       "4      2008  California           CA  McCain, John  republican        False   \n",
       "\n",
       "   candidatevotes_Rep  totalvotes_Rep  year_Dem state_po_Dem  \\\n",
       "0             1266546         2099819      2008           AL   \n",
       "1              193841          326197      2008           AK   \n",
       "2             1230111         2293475      2008           AZ   \n",
       "3              638017         1086617      2008           AR   \n",
       "4             5011781        13561900      2008           CA   \n",
       "\n",
       "      candidate_Dem party_Dem  writein_Dem  candidatevotes_Dem  totalvotes_Dem  \n",
       "0  Obama, Barack H.  democrat        False              813479         2099819  \n",
       "1  Obama, Barack H.  democrat        False              123594          326197  \n",
       "2  Obama, Barack H.  democrat        False             1034707         2293475  \n",
       "3  Obama, Barack H.  democrat        False              422310         1086617  \n",
       "4  Obama, Barack H.  democrat        False             8274473        13561900  "
      ],
      "text/html": "<div>\n<style scoped>\n    .dataframe tbody tr th:only-of-type {\n        vertical-align: middle;\n    }\n\n    .dataframe tbody tr th {\n        vertical-align: top;\n    }\n\n    .dataframe thead th {\n        text-align: right;\n    }\n</style>\n<table border=\"1\" class=\"dataframe\">\n  <thead>\n    <tr style=\"text-align: right;\">\n      <th></th>\n      <th>year_Rep</th>\n      <th>state</th>\n      <th>state_po_Rep</th>\n      <th>candidate_Rep</th>\n      <th>party_Rep</th>\n      <th>writein_Rep</th>\n      <th>candidatevotes_Rep</th>\n      <th>totalvotes_Rep</th>\n      <th>year_Dem</th>\n      <th>state_po_Dem</th>\n      <th>candidate_Dem</th>\n      <th>party_Dem</th>\n      <th>writein_Dem</th>\n      <th>candidatevotes_Dem</th>\n      <th>totalvotes_Dem</th>\n    </tr>\n  </thead>\n  <tbody>\n    <tr>\n      <th>0</th>\n      <td>2008</td>\n      <td>Alabama</td>\n      <td>AL</td>\n      <td>McCain, John</td>\n      <td>republican</td>\n      <td>False</td>\n      <td>1266546</td>\n      <td>2099819</td>\n      <td>2008</td>\n      <td>AL</td>\n      <td>Obama, Barack H.</td>\n      <td>democrat</td>\n      <td>False</td>\n      <td>813479</td>\n      <td>2099819</td>\n    </tr>\n    <tr>\n      <th>1</th>\n      <td>2008</td>\n      <td>Alaska</td>\n      <td>AK</td>\n      <td>McCain, John</td>\n      <td>republican</td>\n      <td>False</td>\n      <td>193841</td>\n      <td>326197</td>\n      <td>2008</td>\n      <td>AK</td>\n      <td>Obama, Barack H.</td>\n      <td>democrat</td>\n      <td>False</td>\n      <td>123594</td>\n      <td>326197</td>\n    </tr>\n    <tr>\n      <th>2</th>\n      <td>2008</td>\n      <td>Arizona</td>\n      <td>AZ</td>\n      <td>McCain, John</td>\n      <td>republican</td>\n      <td>False</td>\n      <td>1230111</td>\n      <td>2293475</td>\n      <td>2008</td>\n      <td>AZ</td>\n      <td>Obama, Barack H.</td>\n      <td>democrat</td>\n      <td>False</td>\n      <td>1034707</td>\n      <td>2293475</td>\n    </tr>\n    <tr>\n      <th>3</th>\n      <td>2008</td>\n      <td>Arkansas</td>\n      <td>AR</td>\n      <td>McCain, John</td>\n      <td>republican</td>\n      <td>False</td>\n      <td>638017</td>\n      <td>1086617</td>\n      <td>2008</td>\n      <td>AR</td>\n      <td>Obama, Barack H.</td>\n      <td>democrat</td>\n      <td>False</td>\n      <td>422310</td>\n      <td>1086617</td>\n    </tr>\n    <tr>\n      <th>4</th>\n      <td>2008</td>\n      <td>California</td>\n      <td>CA</td>\n      <td>McCain, John</td>\n      <td>republican</td>\n      <td>False</td>\n      <td>5011781</td>\n      <td>13561900</td>\n      <td>2008</td>\n      <td>CA</td>\n      <td>Obama, Barack H.</td>\n      <td>democrat</td>\n      <td>False</td>\n      <td>8274473</td>\n      <td>13561900</td>\n    </tr>\n  </tbody>\n</table>\n</div>"
     },
     "metadata": {},
     "execution_count": 78
    }
   ],
   "source": [
    "merge_df_2008 = pd.merge(Republican2008_df, Democrat2008_df, on=\"state\", suffixes=(\"_Rep\", \"_Dem\"))\n",
    "merge_df_2008.head()"
   ]
  },
  {
   "cell_type": "code",
   "execution_count": 79,
   "metadata": {},
   "outputs": [
    {
     "output_type": "execute_result",
     "data": {
      "text/plain": [
       "   year_Rep       state state_po_Rep candidate_Rep   party_Rep  \\\n",
       "0      2008     Alabama           AL  McCain, John  republican   \n",
       "1      2008      Alaska           AK  McCain, John  republican   \n",
       "2      2008     Arizona           AZ  McCain, John  republican   \n",
       "3      2008    Arkansas           AR  McCain, John  republican   \n",
       "4      2008  California           CA  McCain, John  republican   \n",
       "\n",
       "   candidatevotes_Rep state_po_Dem     candidate_Dem party_Dem  \\\n",
       "0             1266546           AL  Obama, Barack H.  democrat   \n",
       "1              193841           AK  Obama, Barack H.  democrat   \n",
       "2             1230111           AZ  Obama, Barack H.  democrat   \n",
       "3              638017           AR  Obama, Barack H.  democrat   \n",
       "4             5011781           CA  Obama, Barack H.  democrat   \n",
       "\n",
       "   candidatevotes_Dem  totalvotes_Dem  \n",
       "0              813479         2099819  \n",
       "1              123594          326197  \n",
       "2             1034707         2293475  \n",
       "3              422310         1086617  \n",
       "4             8274473        13561900  "
      ],
      "text/html": "<div>\n<style scoped>\n    .dataframe tbody tr th:only-of-type {\n        vertical-align: middle;\n    }\n\n    .dataframe tbody tr th {\n        vertical-align: top;\n    }\n\n    .dataframe thead th {\n        text-align: right;\n    }\n</style>\n<table border=\"1\" class=\"dataframe\">\n  <thead>\n    <tr style=\"text-align: right;\">\n      <th></th>\n      <th>year_Rep</th>\n      <th>state</th>\n      <th>state_po_Rep</th>\n      <th>candidate_Rep</th>\n      <th>party_Rep</th>\n      <th>candidatevotes_Rep</th>\n      <th>state_po_Dem</th>\n      <th>candidate_Dem</th>\n      <th>party_Dem</th>\n      <th>candidatevotes_Dem</th>\n      <th>totalvotes_Dem</th>\n    </tr>\n  </thead>\n  <tbody>\n    <tr>\n      <th>0</th>\n      <td>2008</td>\n      <td>Alabama</td>\n      <td>AL</td>\n      <td>McCain, John</td>\n      <td>republican</td>\n      <td>1266546</td>\n      <td>AL</td>\n      <td>Obama, Barack H.</td>\n      <td>democrat</td>\n      <td>813479</td>\n      <td>2099819</td>\n    </tr>\n    <tr>\n      <th>1</th>\n      <td>2008</td>\n      <td>Alaska</td>\n      <td>AK</td>\n      <td>McCain, John</td>\n      <td>republican</td>\n      <td>193841</td>\n      <td>AK</td>\n      <td>Obama, Barack H.</td>\n      <td>democrat</td>\n      <td>123594</td>\n      <td>326197</td>\n    </tr>\n    <tr>\n      <th>2</th>\n      <td>2008</td>\n      <td>Arizona</td>\n      <td>AZ</td>\n      <td>McCain, John</td>\n      <td>republican</td>\n      <td>1230111</td>\n      <td>AZ</td>\n      <td>Obama, Barack H.</td>\n      <td>democrat</td>\n      <td>1034707</td>\n      <td>2293475</td>\n    </tr>\n    <tr>\n      <th>3</th>\n      <td>2008</td>\n      <td>Arkansas</td>\n      <td>AR</td>\n      <td>McCain, John</td>\n      <td>republican</td>\n      <td>638017</td>\n      <td>AR</td>\n      <td>Obama, Barack H.</td>\n      <td>democrat</td>\n      <td>422310</td>\n      <td>1086617</td>\n    </tr>\n    <tr>\n      <th>4</th>\n      <td>2008</td>\n      <td>California</td>\n      <td>CA</td>\n      <td>McCain, John</td>\n      <td>republican</td>\n      <td>5011781</td>\n      <td>CA</td>\n      <td>Obama, Barack H.</td>\n      <td>democrat</td>\n      <td>8274473</td>\n      <td>13561900</td>\n    </tr>\n  </tbody>\n</table>\n</div>"
     },
     "metadata": {},
     "execution_count": 79
    }
   ],
   "source": [
    "merge_df_2008=merge_df_2008.drop(columns=['writein_Rep', 'writein_Dem', 'totalvotes_Rep', 'year_Dem'])\n",
    "merge_df_2008.head()"
   ]
  },
  {
   "cell_type": "code",
   "execution_count": 80,
   "metadata": {},
   "outputs": [
    {
     "output_type": "execute_result",
     "data": {
      "text/plain": [
       "   year       state state_po_Rep candidate_Rep   party_Rep  \\\n",
       "0  2008     Alabama           AL  McCain, John  republican   \n",
       "1  2008      Alaska           AK  McCain, John  republican   \n",
       "2  2008     Arizona           AZ  McCain, John  republican   \n",
       "3  2008    Arkansas           AR  McCain, John  republican   \n",
       "4  2008  California           CA  McCain, John  republican   \n",
       "\n",
       "   candidatevotes_Rep state_po_Dem     candidate_Dem party_Dem  \\\n",
       "0             1266546           AL  Obama, Barack H.  democrat   \n",
       "1              193841           AK  Obama, Barack H.  democrat   \n",
       "2             1230111           AZ  Obama, Barack H.  democrat   \n",
       "3              638017           AR  Obama, Barack H.  democrat   \n",
       "4             5011781           CA  Obama, Barack H.  democrat   \n",
       "\n",
       "   candidatevotes_Dem  totalvotes  \n",
       "0              813479     2099819  \n",
       "1              123594      326197  \n",
       "2             1034707     2293475  \n",
       "3              422310     1086617  \n",
       "4             8274473    13561900  "
      ],
      "text/html": "<div>\n<style scoped>\n    .dataframe tbody tr th:only-of-type {\n        vertical-align: middle;\n    }\n\n    .dataframe tbody tr th {\n        vertical-align: top;\n    }\n\n    .dataframe thead th {\n        text-align: right;\n    }\n</style>\n<table border=\"1\" class=\"dataframe\">\n  <thead>\n    <tr style=\"text-align: right;\">\n      <th></th>\n      <th>year</th>\n      <th>state</th>\n      <th>state_po_Rep</th>\n      <th>candidate_Rep</th>\n      <th>party_Rep</th>\n      <th>candidatevotes_Rep</th>\n      <th>state_po_Dem</th>\n      <th>candidate_Dem</th>\n      <th>party_Dem</th>\n      <th>candidatevotes_Dem</th>\n      <th>totalvotes</th>\n    </tr>\n  </thead>\n  <tbody>\n    <tr>\n      <th>0</th>\n      <td>2008</td>\n      <td>Alabama</td>\n      <td>AL</td>\n      <td>McCain, John</td>\n      <td>republican</td>\n      <td>1266546</td>\n      <td>AL</td>\n      <td>Obama, Barack H.</td>\n      <td>democrat</td>\n      <td>813479</td>\n      <td>2099819</td>\n    </tr>\n    <tr>\n      <th>1</th>\n      <td>2008</td>\n      <td>Alaska</td>\n      <td>AK</td>\n      <td>McCain, John</td>\n      <td>republican</td>\n      <td>193841</td>\n      <td>AK</td>\n      <td>Obama, Barack H.</td>\n      <td>democrat</td>\n      <td>123594</td>\n      <td>326197</td>\n    </tr>\n    <tr>\n      <th>2</th>\n      <td>2008</td>\n      <td>Arizona</td>\n      <td>AZ</td>\n      <td>McCain, John</td>\n      <td>republican</td>\n      <td>1230111</td>\n      <td>AZ</td>\n      <td>Obama, Barack H.</td>\n      <td>democrat</td>\n      <td>1034707</td>\n      <td>2293475</td>\n    </tr>\n    <tr>\n      <th>3</th>\n      <td>2008</td>\n      <td>Arkansas</td>\n      <td>AR</td>\n      <td>McCain, John</td>\n      <td>republican</td>\n      <td>638017</td>\n      <td>AR</td>\n      <td>Obama, Barack H.</td>\n      <td>democrat</td>\n      <td>422310</td>\n      <td>1086617</td>\n    </tr>\n    <tr>\n      <th>4</th>\n      <td>2008</td>\n      <td>California</td>\n      <td>CA</td>\n      <td>McCain, John</td>\n      <td>republican</td>\n      <td>5011781</td>\n      <td>CA</td>\n      <td>Obama, Barack H.</td>\n      <td>democrat</td>\n      <td>8274473</td>\n      <td>13561900</td>\n    </tr>\n  </tbody>\n</table>\n</div>"
     },
     "metadata": {},
     "execution_count": 80
    }
   ],
   "source": [
    "merge_df_2008=merge_df_2008.rename(columns={\"totalvotes_Dem\":\"totalvotes\", \"year_Rep\":\"year\"})\n",
    "merge_df_2008.head()"
   ]
  },
  {
   "cell_type": "code",
   "execution_count": 81,
   "metadata": {},
   "outputs": [],
   "source": [
    "merge_df_2008.to_csv('merge_df_2008.csv')"
   ]
  },
  {
   "cell_type": "code",
   "execution_count": 82,
   "metadata": {},
   "outputs": [
    {
     "output_type": "execute_result",
     "data": {
      "text/plain": [
       "   year_Rep       state state_po_Rep candidate_Rep   party_Rep  writein_Rep  \\\n",
       "0      2012     Alabama           AL  Romney, Mitt  republican        False   \n",
       "1      2012      Alaska           AK  Romney, Mitt  republican        False   \n",
       "2      2012     Arizona           AZ  Romney, Mitt  republican        False   \n",
       "3      2012    Arkansas           AR  Romney, Mitt  republican        False   \n",
       "4      2012  California           CA  Romney, Mitt  republican        False   \n",
       "\n",
       "   candidatevotes_Rep  totalvotes_Rep  year_Dem state_po_Dem  \\\n",
       "0             1255925         2074338      2012           AL   \n",
       "1              164676          300495      2012           AK   \n",
       "2             1233654         2299254      2012           AZ   \n",
       "3              647744         1069468      2012           AR   \n",
       "4             4839958        13038547      2012           CA   \n",
       "\n",
       "      candidate_Dem party_Dem  writein_Dem  candidatevotes_Dem  totalvotes_Dem  \n",
       "0  Obama, Barack H.  democrat        False              795696         2074338  \n",
       "1  Obama, Barack H.  democrat        False              122640          300495  \n",
       "2  Obama, Barack H.  democrat        False             1025232         2299254  \n",
       "3  Obama, Barack H.  democrat        False              394409         1069468  \n",
       "4  Obama, Barack H.  democrat        False             7854285        13038547  "
      ],
      "text/html": "<div>\n<style scoped>\n    .dataframe tbody tr th:only-of-type {\n        vertical-align: middle;\n    }\n\n    .dataframe tbody tr th {\n        vertical-align: top;\n    }\n\n    .dataframe thead th {\n        text-align: right;\n    }\n</style>\n<table border=\"1\" class=\"dataframe\">\n  <thead>\n    <tr style=\"text-align: right;\">\n      <th></th>\n      <th>year_Rep</th>\n      <th>state</th>\n      <th>state_po_Rep</th>\n      <th>candidate_Rep</th>\n      <th>party_Rep</th>\n      <th>writein_Rep</th>\n      <th>candidatevotes_Rep</th>\n      <th>totalvotes_Rep</th>\n      <th>year_Dem</th>\n      <th>state_po_Dem</th>\n      <th>candidate_Dem</th>\n      <th>party_Dem</th>\n      <th>writein_Dem</th>\n      <th>candidatevotes_Dem</th>\n      <th>totalvotes_Dem</th>\n    </tr>\n  </thead>\n  <tbody>\n    <tr>\n      <th>0</th>\n      <td>2012</td>\n      <td>Alabama</td>\n      <td>AL</td>\n      <td>Romney, Mitt</td>\n      <td>republican</td>\n      <td>False</td>\n      <td>1255925</td>\n      <td>2074338</td>\n      <td>2012</td>\n      <td>AL</td>\n      <td>Obama, Barack H.</td>\n      <td>democrat</td>\n      <td>False</td>\n      <td>795696</td>\n      <td>2074338</td>\n    </tr>\n    <tr>\n      <th>1</th>\n      <td>2012</td>\n      <td>Alaska</td>\n      <td>AK</td>\n      <td>Romney, Mitt</td>\n      <td>republican</td>\n      <td>False</td>\n      <td>164676</td>\n      <td>300495</td>\n      <td>2012</td>\n      <td>AK</td>\n      <td>Obama, Barack H.</td>\n      <td>democrat</td>\n      <td>False</td>\n      <td>122640</td>\n      <td>300495</td>\n    </tr>\n    <tr>\n      <th>2</th>\n      <td>2012</td>\n      <td>Arizona</td>\n      <td>AZ</td>\n      <td>Romney, Mitt</td>\n      <td>republican</td>\n      <td>False</td>\n      <td>1233654</td>\n      <td>2299254</td>\n      <td>2012</td>\n      <td>AZ</td>\n      <td>Obama, Barack H.</td>\n      <td>democrat</td>\n      <td>False</td>\n      <td>1025232</td>\n      <td>2299254</td>\n    </tr>\n    <tr>\n      <th>3</th>\n      <td>2012</td>\n      <td>Arkansas</td>\n      <td>AR</td>\n      <td>Romney, Mitt</td>\n      <td>republican</td>\n      <td>False</td>\n      <td>647744</td>\n      <td>1069468</td>\n      <td>2012</td>\n      <td>AR</td>\n      <td>Obama, Barack H.</td>\n      <td>democrat</td>\n      <td>False</td>\n      <td>394409</td>\n      <td>1069468</td>\n    </tr>\n    <tr>\n      <th>4</th>\n      <td>2012</td>\n      <td>California</td>\n      <td>CA</td>\n      <td>Romney, Mitt</td>\n      <td>republican</td>\n      <td>False</td>\n      <td>4839958</td>\n      <td>13038547</td>\n      <td>2012</td>\n      <td>CA</td>\n      <td>Obama, Barack H.</td>\n      <td>democrat</td>\n      <td>False</td>\n      <td>7854285</td>\n      <td>13038547</td>\n    </tr>\n  </tbody>\n</table>\n</div>"
     },
     "metadata": {},
     "execution_count": 82
    }
   ],
   "source": [
    "merge_df_2012 = pd.merge(Republican2012_df, Democrat2012_df, on=\"state\", suffixes=(\"_Rep\", \"_Dem\"))\n",
    "merge_df_2012.head()"
   ]
  },
  {
   "cell_type": "code",
   "execution_count": 83,
   "metadata": {},
   "outputs": [
    {
     "output_type": "execute_result",
     "data": {
      "text/plain": [
       "   year_Rep       state state_po_Rep candidate_Rep   party_Rep  \\\n",
       "0      2012     Alabama           AL  Romney, Mitt  republican   \n",
       "1      2012      Alaska           AK  Romney, Mitt  republican   \n",
       "2      2012     Arizona           AZ  Romney, Mitt  republican   \n",
       "3      2012    Arkansas           AR  Romney, Mitt  republican   \n",
       "4      2012  California           CA  Romney, Mitt  republican   \n",
       "\n",
       "   candidatevotes_Rep state_po_Dem     candidate_Dem party_Dem  \\\n",
       "0             1255925           AL  Obama, Barack H.  democrat   \n",
       "1              164676           AK  Obama, Barack H.  democrat   \n",
       "2             1233654           AZ  Obama, Barack H.  democrat   \n",
       "3              647744           AR  Obama, Barack H.  democrat   \n",
       "4             4839958           CA  Obama, Barack H.  democrat   \n",
       "\n",
       "   candidatevotes_Dem  totalvotes_Dem  \n",
       "0              795696         2074338  \n",
       "1              122640          300495  \n",
       "2             1025232         2299254  \n",
       "3              394409         1069468  \n",
       "4             7854285        13038547  "
      ],
      "text/html": "<div>\n<style scoped>\n    .dataframe tbody tr th:only-of-type {\n        vertical-align: middle;\n    }\n\n    .dataframe tbody tr th {\n        vertical-align: top;\n    }\n\n    .dataframe thead th {\n        text-align: right;\n    }\n</style>\n<table border=\"1\" class=\"dataframe\">\n  <thead>\n    <tr style=\"text-align: right;\">\n      <th></th>\n      <th>year_Rep</th>\n      <th>state</th>\n      <th>state_po_Rep</th>\n      <th>candidate_Rep</th>\n      <th>party_Rep</th>\n      <th>candidatevotes_Rep</th>\n      <th>state_po_Dem</th>\n      <th>candidate_Dem</th>\n      <th>party_Dem</th>\n      <th>candidatevotes_Dem</th>\n      <th>totalvotes_Dem</th>\n    </tr>\n  </thead>\n  <tbody>\n    <tr>\n      <th>0</th>\n      <td>2012</td>\n      <td>Alabama</td>\n      <td>AL</td>\n      <td>Romney, Mitt</td>\n      <td>republican</td>\n      <td>1255925</td>\n      <td>AL</td>\n      <td>Obama, Barack H.</td>\n      <td>democrat</td>\n      <td>795696</td>\n      <td>2074338</td>\n    </tr>\n    <tr>\n      <th>1</th>\n      <td>2012</td>\n      <td>Alaska</td>\n      <td>AK</td>\n      <td>Romney, Mitt</td>\n      <td>republican</td>\n      <td>164676</td>\n      <td>AK</td>\n      <td>Obama, Barack H.</td>\n      <td>democrat</td>\n      <td>122640</td>\n      <td>300495</td>\n    </tr>\n    <tr>\n      <th>2</th>\n      <td>2012</td>\n      <td>Arizona</td>\n      <td>AZ</td>\n      <td>Romney, Mitt</td>\n      <td>republican</td>\n      <td>1233654</td>\n      <td>AZ</td>\n      <td>Obama, Barack H.</td>\n      <td>democrat</td>\n      <td>1025232</td>\n      <td>2299254</td>\n    </tr>\n    <tr>\n      <th>3</th>\n      <td>2012</td>\n      <td>Arkansas</td>\n      <td>AR</td>\n      <td>Romney, Mitt</td>\n      <td>republican</td>\n      <td>647744</td>\n      <td>AR</td>\n      <td>Obama, Barack H.</td>\n      <td>democrat</td>\n      <td>394409</td>\n      <td>1069468</td>\n    </tr>\n    <tr>\n      <th>4</th>\n      <td>2012</td>\n      <td>California</td>\n      <td>CA</td>\n      <td>Romney, Mitt</td>\n      <td>republican</td>\n      <td>4839958</td>\n      <td>CA</td>\n      <td>Obama, Barack H.</td>\n      <td>democrat</td>\n      <td>7854285</td>\n      <td>13038547</td>\n    </tr>\n  </tbody>\n</table>\n</div>"
     },
     "metadata": {},
     "execution_count": 83
    }
   ],
   "source": [
    "merge_df_2012=merge_df_2012.drop(columns=['writein_Rep', 'writein_Dem', 'totalvotes_Rep', 'year_Dem'])\n",
    "merge_df_2012.head()"
   ]
  },
  {
   "cell_type": "code",
   "execution_count": 84,
   "metadata": {},
   "outputs": [
    {
     "output_type": "execute_result",
     "data": {
      "text/plain": [
       "   year       state state_po_Rep candidate_Rep   party_Rep  \\\n",
       "0  2012     Alabama           AL  Romney, Mitt  republican   \n",
       "1  2012      Alaska           AK  Romney, Mitt  republican   \n",
       "2  2012     Arizona           AZ  Romney, Mitt  republican   \n",
       "3  2012    Arkansas           AR  Romney, Mitt  republican   \n",
       "4  2012  California           CA  Romney, Mitt  republican   \n",
       "\n",
       "   candidatevotes_Rep state_po_Dem     candidate_Dem party_Dem  \\\n",
       "0             1255925           AL  Obama, Barack H.  democrat   \n",
       "1              164676           AK  Obama, Barack H.  democrat   \n",
       "2             1233654           AZ  Obama, Barack H.  democrat   \n",
       "3              647744           AR  Obama, Barack H.  democrat   \n",
       "4             4839958           CA  Obama, Barack H.  democrat   \n",
       "\n",
       "   candidatevotes_Dem  totalvotes  \n",
       "0              795696     2074338  \n",
       "1              122640      300495  \n",
       "2             1025232     2299254  \n",
       "3              394409     1069468  \n",
       "4             7854285    13038547  "
      ],
      "text/html": "<div>\n<style scoped>\n    .dataframe tbody tr th:only-of-type {\n        vertical-align: middle;\n    }\n\n    .dataframe tbody tr th {\n        vertical-align: top;\n    }\n\n    .dataframe thead th {\n        text-align: right;\n    }\n</style>\n<table border=\"1\" class=\"dataframe\">\n  <thead>\n    <tr style=\"text-align: right;\">\n      <th></th>\n      <th>year</th>\n      <th>state</th>\n      <th>state_po_Rep</th>\n      <th>candidate_Rep</th>\n      <th>party_Rep</th>\n      <th>candidatevotes_Rep</th>\n      <th>state_po_Dem</th>\n      <th>candidate_Dem</th>\n      <th>party_Dem</th>\n      <th>candidatevotes_Dem</th>\n      <th>totalvotes</th>\n    </tr>\n  </thead>\n  <tbody>\n    <tr>\n      <th>0</th>\n      <td>2012</td>\n      <td>Alabama</td>\n      <td>AL</td>\n      <td>Romney, Mitt</td>\n      <td>republican</td>\n      <td>1255925</td>\n      <td>AL</td>\n      <td>Obama, Barack H.</td>\n      <td>democrat</td>\n      <td>795696</td>\n      <td>2074338</td>\n    </tr>\n    <tr>\n      <th>1</th>\n      <td>2012</td>\n      <td>Alaska</td>\n      <td>AK</td>\n      <td>Romney, Mitt</td>\n      <td>republican</td>\n      <td>164676</td>\n      <td>AK</td>\n      <td>Obama, Barack H.</td>\n      <td>democrat</td>\n      <td>122640</td>\n      <td>300495</td>\n    </tr>\n    <tr>\n      <th>2</th>\n      <td>2012</td>\n      <td>Arizona</td>\n      <td>AZ</td>\n      <td>Romney, Mitt</td>\n      <td>republican</td>\n      <td>1233654</td>\n      <td>AZ</td>\n      <td>Obama, Barack H.</td>\n      <td>democrat</td>\n      <td>1025232</td>\n      <td>2299254</td>\n    </tr>\n    <tr>\n      <th>3</th>\n      <td>2012</td>\n      <td>Arkansas</td>\n      <td>AR</td>\n      <td>Romney, Mitt</td>\n      <td>republican</td>\n      <td>647744</td>\n      <td>AR</td>\n      <td>Obama, Barack H.</td>\n      <td>democrat</td>\n      <td>394409</td>\n      <td>1069468</td>\n    </tr>\n    <tr>\n      <th>4</th>\n      <td>2012</td>\n      <td>California</td>\n      <td>CA</td>\n      <td>Romney, Mitt</td>\n      <td>republican</td>\n      <td>4839958</td>\n      <td>CA</td>\n      <td>Obama, Barack H.</td>\n      <td>democrat</td>\n      <td>7854285</td>\n      <td>13038547</td>\n    </tr>\n  </tbody>\n</table>\n</div>"
     },
     "metadata": {},
     "execution_count": 84
    }
   ],
   "source": [
    "merge_df_2012=merge_df_2012.rename(columns={\"totalvotes_Dem\":\"totalvotes\", \"year_Rep\":\"year\"})\n",
    "merge_df_2012.head()"
   ]
  },
  {
   "cell_type": "code",
   "execution_count": 85,
   "metadata": {},
   "outputs": [],
   "source": [
    "merge_df_2012.to_csv('merge_df_2012.csv')"
   ]
  },
  {
   "cell_type": "code",
   "execution_count": 86,
   "metadata": {},
   "outputs": [
    {
     "output_type": "execute_result",
     "data": {
      "text/plain": [
       "   year_Rep       state state_po_Rep     candidate_Rep   party_Rep  \\\n",
       "0      2016     Alabama           AL  Trump, Donald J.  republican   \n",
       "1      2016      Alaska           AK  Trump, Donald J.  republican   \n",
       "2      2016     Arizona           AZ  Trump, Donald J.  republican   \n",
       "3      2016    Arkansas           AR  Trump, Donald J.  republican   \n",
       "4      2016  California           CA  Trump, Donald J.  republican   \n",
       "\n",
       "   writein_Rep  candidatevotes_Rep  totalvotes_Rep  year_Dem state_po_Dem  \\\n",
       "0        False             1318255         2123372      2016           AL   \n",
       "1        False              163387          318608      2016           AK   \n",
       "2        False             1252401         2573165      2016           AZ   \n",
       "3        False              684872         1130635      2016           AR   \n",
       "4        False             4483810        14181595      2016           CA   \n",
       "\n",
       "      candidate_Dem party_Dem  writein_Dem  candidatevotes_Dem  totalvotes_Dem  \n",
       "0  Clinton, Hillary  democrat        False              729547         2123372  \n",
       "1  Clinton, Hillary  democrat        False              116454          318608  \n",
       "2  Clinton, Hillary  democrat        False             1161167         2573165  \n",
       "3  Clinton, Hillary  democrat        False              380494         1130635  \n",
       "4  Clinton, Hillary  democrat        False             8753788        14181595  "
      ],
      "text/html": "<div>\n<style scoped>\n    .dataframe tbody tr th:only-of-type {\n        vertical-align: middle;\n    }\n\n    .dataframe tbody tr th {\n        vertical-align: top;\n    }\n\n    .dataframe thead th {\n        text-align: right;\n    }\n</style>\n<table border=\"1\" class=\"dataframe\">\n  <thead>\n    <tr style=\"text-align: right;\">\n      <th></th>\n      <th>year_Rep</th>\n      <th>state</th>\n      <th>state_po_Rep</th>\n      <th>candidate_Rep</th>\n      <th>party_Rep</th>\n      <th>writein_Rep</th>\n      <th>candidatevotes_Rep</th>\n      <th>totalvotes_Rep</th>\n      <th>year_Dem</th>\n      <th>state_po_Dem</th>\n      <th>candidate_Dem</th>\n      <th>party_Dem</th>\n      <th>writein_Dem</th>\n      <th>candidatevotes_Dem</th>\n      <th>totalvotes_Dem</th>\n    </tr>\n  </thead>\n  <tbody>\n    <tr>\n      <th>0</th>\n      <td>2016</td>\n      <td>Alabama</td>\n      <td>AL</td>\n      <td>Trump, Donald J.</td>\n      <td>republican</td>\n      <td>False</td>\n      <td>1318255</td>\n      <td>2123372</td>\n      <td>2016</td>\n      <td>AL</td>\n      <td>Clinton, Hillary</td>\n      <td>democrat</td>\n      <td>False</td>\n      <td>729547</td>\n      <td>2123372</td>\n    </tr>\n    <tr>\n      <th>1</th>\n      <td>2016</td>\n      <td>Alaska</td>\n      <td>AK</td>\n      <td>Trump, Donald J.</td>\n      <td>republican</td>\n      <td>False</td>\n      <td>163387</td>\n      <td>318608</td>\n      <td>2016</td>\n      <td>AK</td>\n      <td>Clinton, Hillary</td>\n      <td>democrat</td>\n      <td>False</td>\n      <td>116454</td>\n      <td>318608</td>\n    </tr>\n    <tr>\n      <th>2</th>\n      <td>2016</td>\n      <td>Arizona</td>\n      <td>AZ</td>\n      <td>Trump, Donald J.</td>\n      <td>republican</td>\n      <td>False</td>\n      <td>1252401</td>\n      <td>2573165</td>\n      <td>2016</td>\n      <td>AZ</td>\n      <td>Clinton, Hillary</td>\n      <td>democrat</td>\n      <td>False</td>\n      <td>1161167</td>\n      <td>2573165</td>\n    </tr>\n    <tr>\n      <th>3</th>\n      <td>2016</td>\n      <td>Arkansas</td>\n      <td>AR</td>\n      <td>Trump, Donald J.</td>\n      <td>republican</td>\n      <td>False</td>\n      <td>684872</td>\n      <td>1130635</td>\n      <td>2016</td>\n      <td>AR</td>\n      <td>Clinton, Hillary</td>\n      <td>democrat</td>\n      <td>False</td>\n      <td>380494</td>\n      <td>1130635</td>\n    </tr>\n    <tr>\n      <th>4</th>\n      <td>2016</td>\n      <td>California</td>\n      <td>CA</td>\n      <td>Trump, Donald J.</td>\n      <td>republican</td>\n      <td>False</td>\n      <td>4483810</td>\n      <td>14181595</td>\n      <td>2016</td>\n      <td>CA</td>\n      <td>Clinton, Hillary</td>\n      <td>democrat</td>\n      <td>False</td>\n      <td>8753788</td>\n      <td>14181595</td>\n    </tr>\n  </tbody>\n</table>\n</div>"
     },
     "metadata": {},
     "execution_count": 86
    }
   ],
   "source": [
    "merge_df_2016 = pd.merge(Republican2016_df, Democrat2016_df, on=\"state\", suffixes=(\"_Rep\", \"_Dem\"))\n",
    "merge_df_2016.head()"
   ]
  },
  {
   "cell_type": "code",
   "execution_count": 87,
   "metadata": {},
   "outputs": [
    {
     "output_type": "execute_result",
     "data": {
      "text/plain": [
       "   year_Rep       state state_po_Rep     candidate_Rep   party_Rep  \\\n",
       "0      2016     Alabama           AL  Trump, Donald J.  republican   \n",
       "1      2016      Alaska           AK  Trump, Donald J.  republican   \n",
       "2      2016     Arizona           AZ  Trump, Donald J.  republican   \n",
       "3      2016    Arkansas           AR  Trump, Donald J.  republican   \n",
       "4      2016  California           CA  Trump, Donald J.  republican   \n",
       "\n",
       "   candidatevotes_Rep state_po_Dem     candidate_Dem party_Dem  \\\n",
       "0             1318255           AL  Clinton, Hillary  democrat   \n",
       "1              163387           AK  Clinton, Hillary  democrat   \n",
       "2             1252401           AZ  Clinton, Hillary  democrat   \n",
       "3              684872           AR  Clinton, Hillary  democrat   \n",
       "4             4483810           CA  Clinton, Hillary  democrat   \n",
       "\n",
       "   candidatevotes_Dem  totalvotes_Dem  \n",
       "0              729547         2123372  \n",
       "1              116454          318608  \n",
       "2             1161167         2573165  \n",
       "3              380494         1130635  \n",
       "4             8753788        14181595  "
      ],
      "text/html": "<div>\n<style scoped>\n    .dataframe tbody tr th:only-of-type {\n        vertical-align: middle;\n    }\n\n    .dataframe tbody tr th {\n        vertical-align: top;\n    }\n\n    .dataframe thead th {\n        text-align: right;\n    }\n</style>\n<table border=\"1\" class=\"dataframe\">\n  <thead>\n    <tr style=\"text-align: right;\">\n      <th></th>\n      <th>year_Rep</th>\n      <th>state</th>\n      <th>state_po_Rep</th>\n      <th>candidate_Rep</th>\n      <th>party_Rep</th>\n      <th>candidatevotes_Rep</th>\n      <th>state_po_Dem</th>\n      <th>candidate_Dem</th>\n      <th>party_Dem</th>\n      <th>candidatevotes_Dem</th>\n      <th>totalvotes_Dem</th>\n    </tr>\n  </thead>\n  <tbody>\n    <tr>\n      <th>0</th>\n      <td>2016</td>\n      <td>Alabama</td>\n      <td>AL</td>\n      <td>Trump, Donald J.</td>\n      <td>republican</td>\n      <td>1318255</td>\n      <td>AL</td>\n      <td>Clinton, Hillary</td>\n      <td>democrat</td>\n      <td>729547</td>\n      <td>2123372</td>\n    </tr>\n    <tr>\n      <th>1</th>\n      <td>2016</td>\n      <td>Alaska</td>\n      <td>AK</td>\n      <td>Trump, Donald J.</td>\n      <td>republican</td>\n      <td>163387</td>\n      <td>AK</td>\n      <td>Clinton, Hillary</td>\n      <td>democrat</td>\n      <td>116454</td>\n      <td>318608</td>\n    </tr>\n    <tr>\n      <th>2</th>\n      <td>2016</td>\n      <td>Arizona</td>\n      <td>AZ</td>\n      <td>Trump, Donald J.</td>\n      <td>republican</td>\n      <td>1252401</td>\n      <td>AZ</td>\n      <td>Clinton, Hillary</td>\n      <td>democrat</td>\n      <td>1161167</td>\n      <td>2573165</td>\n    </tr>\n    <tr>\n      <th>3</th>\n      <td>2016</td>\n      <td>Arkansas</td>\n      <td>AR</td>\n      <td>Trump, Donald J.</td>\n      <td>republican</td>\n      <td>684872</td>\n      <td>AR</td>\n      <td>Clinton, Hillary</td>\n      <td>democrat</td>\n      <td>380494</td>\n      <td>1130635</td>\n    </tr>\n    <tr>\n      <th>4</th>\n      <td>2016</td>\n      <td>California</td>\n      <td>CA</td>\n      <td>Trump, Donald J.</td>\n      <td>republican</td>\n      <td>4483810</td>\n      <td>CA</td>\n      <td>Clinton, Hillary</td>\n      <td>democrat</td>\n      <td>8753788</td>\n      <td>14181595</td>\n    </tr>\n  </tbody>\n</table>\n</div>"
     },
     "metadata": {},
     "execution_count": 87
    }
   ],
   "source": [
    "merge_df_2016=merge_df_2016.drop(columns=['writein_Rep', 'writein_Dem', 'totalvotes_Rep', 'year_Dem'])\n",
    "merge_df_2016.head()"
   ]
  },
  {
   "cell_type": "code",
   "execution_count": 88,
   "metadata": {},
   "outputs": [
    {
     "output_type": "execute_result",
     "data": {
      "text/plain": [
       "   year       state state_po_Rep     candidate_Rep   party_Rep  \\\n",
       "0  2016     Alabama           AL  Trump, Donald J.  republican   \n",
       "1  2016      Alaska           AK  Trump, Donald J.  republican   \n",
       "2  2016     Arizona           AZ  Trump, Donald J.  republican   \n",
       "3  2016    Arkansas           AR  Trump, Donald J.  republican   \n",
       "4  2016  California           CA  Trump, Donald J.  republican   \n",
       "\n",
       "   candidatevotes_Rep state_po_Dem     candidate_Dem party_Dem  \\\n",
       "0             1318255           AL  Clinton, Hillary  democrat   \n",
       "1              163387           AK  Clinton, Hillary  democrat   \n",
       "2             1252401           AZ  Clinton, Hillary  democrat   \n",
       "3              684872           AR  Clinton, Hillary  democrat   \n",
       "4             4483810           CA  Clinton, Hillary  democrat   \n",
       "\n",
       "   candidatevotes_Dem  totalvotes  \n",
       "0              729547     2123372  \n",
       "1              116454      318608  \n",
       "2             1161167     2573165  \n",
       "3              380494     1130635  \n",
       "4             8753788    14181595  "
      ],
      "text/html": "<div>\n<style scoped>\n    .dataframe tbody tr th:only-of-type {\n        vertical-align: middle;\n    }\n\n    .dataframe tbody tr th {\n        vertical-align: top;\n    }\n\n    .dataframe thead th {\n        text-align: right;\n    }\n</style>\n<table border=\"1\" class=\"dataframe\">\n  <thead>\n    <tr style=\"text-align: right;\">\n      <th></th>\n      <th>year</th>\n      <th>state</th>\n      <th>state_po_Rep</th>\n      <th>candidate_Rep</th>\n      <th>party_Rep</th>\n      <th>candidatevotes_Rep</th>\n      <th>state_po_Dem</th>\n      <th>candidate_Dem</th>\n      <th>party_Dem</th>\n      <th>candidatevotes_Dem</th>\n      <th>totalvotes</th>\n    </tr>\n  </thead>\n  <tbody>\n    <tr>\n      <th>0</th>\n      <td>2016</td>\n      <td>Alabama</td>\n      <td>AL</td>\n      <td>Trump, Donald J.</td>\n      <td>republican</td>\n      <td>1318255</td>\n      <td>AL</td>\n      <td>Clinton, Hillary</td>\n      <td>democrat</td>\n      <td>729547</td>\n      <td>2123372</td>\n    </tr>\n    <tr>\n      <th>1</th>\n      <td>2016</td>\n      <td>Alaska</td>\n      <td>AK</td>\n      <td>Trump, Donald J.</td>\n      <td>republican</td>\n      <td>163387</td>\n      <td>AK</td>\n      <td>Clinton, Hillary</td>\n      <td>democrat</td>\n      <td>116454</td>\n      <td>318608</td>\n    </tr>\n    <tr>\n      <th>2</th>\n      <td>2016</td>\n      <td>Arizona</td>\n      <td>AZ</td>\n      <td>Trump, Donald J.</td>\n      <td>republican</td>\n      <td>1252401</td>\n      <td>AZ</td>\n      <td>Clinton, Hillary</td>\n      <td>democrat</td>\n      <td>1161167</td>\n      <td>2573165</td>\n    </tr>\n    <tr>\n      <th>3</th>\n      <td>2016</td>\n      <td>Arkansas</td>\n      <td>AR</td>\n      <td>Trump, Donald J.</td>\n      <td>republican</td>\n      <td>684872</td>\n      <td>AR</td>\n      <td>Clinton, Hillary</td>\n      <td>democrat</td>\n      <td>380494</td>\n      <td>1130635</td>\n    </tr>\n    <tr>\n      <th>4</th>\n      <td>2016</td>\n      <td>California</td>\n      <td>CA</td>\n      <td>Trump, Donald J.</td>\n      <td>republican</td>\n      <td>4483810</td>\n      <td>CA</td>\n      <td>Clinton, Hillary</td>\n      <td>democrat</td>\n      <td>8753788</td>\n      <td>14181595</td>\n    </tr>\n  </tbody>\n</table>\n</div>"
     },
     "metadata": {},
     "execution_count": 88
    }
   ],
   "source": [
    "merge_df_2016=merge_df_2016.rename(columns={\"totalvotes_Dem\":\"totalvotes\", \"year_Rep\":\"year\"})\n",
    "merge_df_2016.head()"
   ]
  },
  {
   "cell_type": "code",
   "execution_count": 89,
   "metadata": {},
   "outputs": [],
   "source": [
    "merge_df_2016.to_csv('merge_df_2016.csv')"
   ]
  },
  {
   "cell_type": "code",
   "execution_count": 90,
   "metadata": {},
   "outputs": [
    {
     "output_type": "execute_result",
     "data": {
      "text/plain": [
       "            Place Name State_po_Rep   Latitude   Longitude\n",
       "0         Alabama, USA           AL  32.318230  -86.902298\n",
       "1          Alaska, USA           AK  66.160507 -153.369141\n",
       "2         Arizona, USA           AZ  34.048927 -111.093735\n",
       "3     Arkansas, the US           AR  34.799999  -92.199997\n",
       "4  California, the USA           CA  36.778259 -119.417931"
      ],
      "text/html": "<div>\n<style scoped>\n    .dataframe tbody tr th:only-of-type {\n        vertical-align: middle;\n    }\n\n    .dataframe tbody tr th {\n        vertical-align: top;\n    }\n\n    .dataframe thead th {\n        text-align: right;\n    }\n</style>\n<table border=\"1\" class=\"dataframe\">\n  <thead>\n    <tr style=\"text-align: right;\">\n      <th></th>\n      <th>Place Name</th>\n      <th>State_po_Rep</th>\n      <th>Latitude</th>\n      <th>Longitude</th>\n    </tr>\n  </thead>\n  <tbody>\n    <tr>\n      <th>0</th>\n      <td>Alabama, USA</td>\n      <td>AL</td>\n      <td>32.318230</td>\n      <td>-86.902298</td>\n    </tr>\n    <tr>\n      <th>1</th>\n      <td>Alaska, USA</td>\n      <td>AK</td>\n      <td>66.160507</td>\n      <td>-153.369141</td>\n    </tr>\n    <tr>\n      <th>2</th>\n      <td>Arizona, USA</td>\n      <td>AZ</td>\n      <td>34.048927</td>\n      <td>-111.093735</td>\n    </tr>\n    <tr>\n      <th>3</th>\n      <td>Arkansas, the US</td>\n      <td>AR</td>\n      <td>34.799999</td>\n      <td>-92.199997</td>\n    </tr>\n    <tr>\n      <th>4</th>\n      <td>California, the USA</td>\n      <td>CA</td>\n      <td>36.778259</td>\n      <td>-119.417931</td>\n    </tr>\n  </tbody>\n</table>\n</div>"
     },
     "metadata": {},
     "execution_count": 90
    }
   ],
   "source": [
    "file_to_load = \"data/STATE_long_latitude.csv\"\n",
    "lat_long = pd.read_csv(file_to_load)\n",
    "lat_long.head()"
   ]
  },
  {
   "cell_type": "code",
   "execution_count": 91,
   "metadata": {},
   "outputs": [
    {
     "output_type": "execute_result",
     "data": {
      "text/plain": [
       "            Place Name state_po_Rep   Latitude   Longitude\n",
       "0         Alabama, USA           AL  32.318230  -86.902298\n",
       "1          Alaska, USA           AK  66.160507 -153.369141\n",
       "2         Arizona, USA           AZ  34.048927 -111.093735\n",
       "3     Arkansas, the US           AR  34.799999  -92.199997\n",
       "4  California, the USA           CA  36.778259 -119.417931"
      ],
      "text/html": "<div>\n<style scoped>\n    .dataframe tbody tr th:only-of-type {\n        vertical-align: middle;\n    }\n\n    .dataframe tbody tr th {\n        vertical-align: top;\n    }\n\n    .dataframe thead th {\n        text-align: right;\n    }\n</style>\n<table border=\"1\" class=\"dataframe\">\n  <thead>\n    <tr style=\"text-align: right;\">\n      <th></th>\n      <th>Place Name</th>\n      <th>state_po_Rep</th>\n      <th>Latitude</th>\n      <th>Longitude</th>\n    </tr>\n  </thead>\n  <tbody>\n    <tr>\n      <th>0</th>\n      <td>Alabama, USA</td>\n      <td>AL</td>\n      <td>32.318230</td>\n      <td>-86.902298</td>\n    </tr>\n    <tr>\n      <th>1</th>\n      <td>Alaska, USA</td>\n      <td>AK</td>\n      <td>66.160507</td>\n      <td>-153.369141</td>\n    </tr>\n    <tr>\n      <th>2</th>\n      <td>Arizona, USA</td>\n      <td>AZ</td>\n      <td>34.048927</td>\n      <td>-111.093735</td>\n    </tr>\n    <tr>\n      <th>3</th>\n      <td>Arkansas, the US</td>\n      <td>AR</td>\n      <td>34.799999</td>\n      <td>-92.199997</td>\n    </tr>\n    <tr>\n      <th>4</th>\n      <td>California, the USA</td>\n      <td>CA</td>\n      <td>36.778259</td>\n      <td>-119.417931</td>\n    </tr>\n  </tbody>\n</table>\n</div>"
     },
     "metadata": {},
     "execution_count": 91
    }
   ],
   "source": [
    "lat_long=lat_long.rename(columns={\"State_po_Rep\":\"state_po_Rep\"})\n",
    "lat_long.head()"
   ]
  },
  {
   "cell_type": "code",
   "execution_count": 93,
   "metadata": {},
   "outputs": [
    {
     "output_type": "execute_result",
     "data": {
      "text/plain": [
       "   year       state state_po_Rep    candidate_Rep   party_Rep  \\\n",
       "0  2000     Alabama           AL  Bush, George W.  republican   \n",
       "1  2000      Alaska           AK  Bush, George W.  republican   \n",
       "2  2000     Arizona           AZ  Bush, George W.  republican   \n",
       "3  2000    Arkansas           AR  Bush, George W.  republican   \n",
       "4  2000  California           CA  Bush, George W.  republican   \n",
       "\n",
       "   candidatevotes_Rep state_po_Dem candidate_Dem party_Dem  \\\n",
       "0              941173           AL      Gore, Al  democrat   \n",
       "1              167398           AK      Gore, Al  democrat   \n",
       "2              781652           AZ      Gore, Al  democrat   \n",
       "3              472940           AR      Gore, Al  democrat   \n",
       "4             4567429           CA      Gore, Al  democrat   \n",
       "\n",
       "   candidatevotes_Dem  totalvotes           Place Name   Latitude   Longitude  \n",
       "0              692611     1666272         Alabama, USA  32.318230  -86.902298  \n",
       "1               79004      285560          Alaska, USA  66.160507 -153.369141  \n",
       "2              685341     1532016         Arizona, USA  34.048927 -111.093735  \n",
       "3              422768      921781     Arkansas, the US  34.799999  -92.199997  \n",
       "4             5861203    10965822  California, the USA  36.778259 -119.417931  "
      ],
      "text/html": "<div>\n<style scoped>\n    .dataframe tbody tr th:only-of-type {\n        vertical-align: middle;\n    }\n\n    .dataframe tbody tr th {\n        vertical-align: top;\n    }\n\n    .dataframe thead th {\n        text-align: right;\n    }\n</style>\n<table border=\"1\" class=\"dataframe\">\n  <thead>\n    <tr style=\"text-align: right;\">\n      <th></th>\n      <th>year</th>\n      <th>state</th>\n      <th>state_po_Rep</th>\n      <th>candidate_Rep</th>\n      <th>party_Rep</th>\n      <th>candidatevotes_Rep</th>\n      <th>state_po_Dem</th>\n      <th>candidate_Dem</th>\n      <th>party_Dem</th>\n      <th>candidatevotes_Dem</th>\n      <th>totalvotes</th>\n      <th>Place Name</th>\n      <th>Latitude</th>\n      <th>Longitude</th>\n    </tr>\n  </thead>\n  <tbody>\n    <tr>\n      <th>0</th>\n      <td>2000</td>\n      <td>Alabama</td>\n      <td>AL</td>\n      <td>Bush, George W.</td>\n      <td>republican</td>\n      <td>941173</td>\n      <td>AL</td>\n      <td>Gore, Al</td>\n      <td>democrat</td>\n      <td>692611</td>\n      <td>1666272</td>\n      <td>Alabama, USA</td>\n      <td>32.318230</td>\n      <td>-86.902298</td>\n    </tr>\n    <tr>\n      <th>1</th>\n      <td>2000</td>\n      <td>Alaska</td>\n      <td>AK</td>\n      <td>Bush, George W.</td>\n      <td>republican</td>\n      <td>167398</td>\n      <td>AK</td>\n      <td>Gore, Al</td>\n      <td>democrat</td>\n      <td>79004</td>\n      <td>285560</td>\n      <td>Alaska, USA</td>\n      <td>66.160507</td>\n      <td>-153.369141</td>\n    </tr>\n    <tr>\n      <th>2</th>\n      <td>2000</td>\n      <td>Arizona</td>\n      <td>AZ</td>\n      <td>Bush, George W.</td>\n      <td>republican</td>\n      <td>781652</td>\n      <td>AZ</td>\n      <td>Gore, Al</td>\n      <td>democrat</td>\n      <td>685341</td>\n      <td>1532016</td>\n      <td>Arizona, USA</td>\n      <td>34.048927</td>\n      <td>-111.093735</td>\n    </tr>\n    <tr>\n      <th>3</th>\n      <td>2000</td>\n      <td>Arkansas</td>\n      <td>AR</td>\n      <td>Bush, George W.</td>\n      <td>republican</td>\n      <td>472940</td>\n      <td>AR</td>\n      <td>Gore, Al</td>\n      <td>democrat</td>\n      <td>422768</td>\n      <td>921781</td>\n      <td>Arkansas, the US</td>\n      <td>34.799999</td>\n      <td>-92.199997</td>\n    </tr>\n    <tr>\n      <th>4</th>\n      <td>2000</td>\n      <td>California</td>\n      <td>CA</td>\n      <td>Bush, George W.</td>\n      <td>republican</td>\n      <td>4567429</td>\n      <td>CA</td>\n      <td>Gore, Al</td>\n      <td>democrat</td>\n      <td>5861203</td>\n      <td>10965822</td>\n      <td>California, the USA</td>\n      <td>36.778259</td>\n      <td>-119.417931</td>\n    </tr>\n  </tbody>\n</table>\n</div>"
     },
     "metadata": {},
     "execution_count": 93
    }
   ],
   "source": [
    "lat_long_2000 = pd.merge(merge_df_2000, lat_long, on=\"state_po_Rep\")\n",
    "lat_long_2000.head()"
   ]
  },
  {
   "cell_type": "code",
   "execution_count": 98,
   "metadata": {},
   "outputs": [
    {
     "output_type": "execute_result",
     "data": {
      "text/plain": [
       "   year       state state_po_Rep    candidate_Rep   party_Rep  \\\n",
       "0  2004     Alabama           AL  Bush, George W.  republican   \n",
       "1  2004      Alaska           AK  Bush, George W.  republican   \n",
       "2  2004     Arizona           AZ  Bush, George W.  republican   \n",
       "3  2004    Arkansas           AR  Bush, George W.  republican   \n",
       "4  2004  California           CA  Bush, George W.  republican   \n",
       "\n",
       "   candidatevotes_Rep state_po_Dem candidate_Dem party_Dem  \\\n",
       "0             1176394           AL   Kerry, John  democrat   \n",
       "1              190889           AK   Kerry, John  democrat   \n",
       "2             1104294           AZ   Kerry, John  democrat   \n",
       "3              572898           AR   Kerry, John  democrat   \n",
       "4             5509826           CA   Kerry, John  democrat   \n",
       "\n",
       "   candidatevotes_Dem  totalvotes           Place Name   Latitude   Longitude  \n",
       "0              693933     1883415         Alabama, USA  32.318230  -86.902298  \n",
       "1              111025      312598          Alaska, USA  66.160507 -153.369141  \n",
       "2              893524     2012585         Arizona, USA  34.048927 -111.093735  \n",
       "3              469953     1054945     Arkansas, the US  34.799999  -92.199997  \n",
       "4             6745485    12421353  California, the USA  36.778259 -119.417931  "
      ],
      "text/html": "<div>\n<style scoped>\n    .dataframe tbody tr th:only-of-type {\n        vertical-align: middle;\n    }\n\n    .dataframe tbody tr th {\n        vertical-align: top;\n    }\n\n    .dataframe thead th {\n        text-align: right;\n    }\n</style>\n<table border=\"1\" class=\"dataframe\">\n  <thead>\n    <tr style=\"text-align: right;\">\n      <th></th>\n      <th>year</th>\n      <th>state</th>\n      <th>state_po_Rep</th>\n      <th>candidate_Rep</th>\n      <th>party_Rep</th>\n      <th>candidatevotes_Rep</th>\n      <th>state_po_Dem</th>\n      <th>candidate_Dem</th>\n      <th>party_Dem</th>\n      <th>candidatevotes_Dem</th>\n      <th>totalvotes</th>\n      <th>Place Name</th>\n      <th>Latitude</th>\n      <th>Longitude</th>\n    </tr>\n  </thead>\n  <tbody>\n    <tr>\n      <th>0</th>\n      <td>2004</td>\n      <td>Alabama</td>\n      <td>AL</td>\n      <td>Bush, George W.</td>\n      <td>republican</td>\n      <td>1176394</td>\n      <td>AL</td>\n      <td>Kerry, John</td>\n      <td>democrat</td>\n      <td>693933</td>\n      <td>1883415</td>\n      <td>Alabama, USA</td>\n      <td>32.318230</td>\n      <td>-86.902298</td>\n    </tr>\n    <tr>\n      <th>1</th>\n      <td>2004</td>\n      <td>Alaska</td>\n      <td>AK</td>\n      <td>Bush, George W.</td>\n      <td>republican</td>\n      <td>190889</td>\n      <td>AK</td>\n      <td>Kerry, John</td>\n      <td>democrat</td>\n      <td>111025</td>\n      <td>312598</td>\n      <td>Alaska, USA</td>\n      <td>66.160507</td>\n      <td>-153.369141</td>\n    </tr>\n    <tr>\n      <th>2</th>\n      <td>2004</td>\n      <td>Arizona</td>\n      <td>AZ</td>\n      <td>Bush, George W.</td>\n      <td>republican</td>\n      <td>1104294</td>\n      <td>AZ</td>\n      <td>Kerry, John</td>\n      <td>democrat</td>\n      <td>893524</td>\n      <td>2012585</td>\n      <td>Arizona, USA</td>\n      <td>34.048927</td>\n      <td>-111.093735</td>\n    </tr>\n    <tr>\n      <th>3</th>\n      <td>2004</td>\n      <td>Arkansas</td>\n      <td>AR</td>\n      <td>Bush, George W.</td>\n      <td>republican</td>\n      <td>572898</td>\n      <td>AR</td>\n      <td>Kerry, John</td>\n      <td>democrat</td>\n      <td>469953</td>\n      <td>1054945</td>\n      <td>Arkansas, the US</td>\n      <td>34.799999</td>\n      <td>-92.199997</td>\n    </tr>\n    <tr>\n      <th>4</th>\n      <td>2004</td>\n      <td>California</td>\n      <td>CA</td>\n      <td>Bush, George W.</td>\n      <td>republican</td>\n      <td>5509826</td>\n      <td>CA</td>\n      <td>Kerry, John</td>\n      <td>democrat</td>\n      <td>6745485</td>\n      <td>12421353</td>\n      <td>California, the USA</td>\n      <td>36.778259</td>\n      <td>-119.417931</td>\n    </tr>\n  </tbody>\n</table>\n</div>"
     },
     "metadata": {},
     "execution_count": 98
    }
   ],
   "source": [
    "lat_long_2004 = pd.merge(merge_df_2004, lat_long, on=\"state_po_Rep\")\n",
    "lat_long_2004.head()"
   ]
  },
  {
   "cell_type": "code",
   "execution_count": 99,
   "metadata": {},
   "outputs": [
    {
     "output_type": "execute_result",
     "data": {
      "text/plain": [
       "   year       state state_po_Rep candidate_Rep   party_Rep  \\\n",
       "0  2008     Alabama           AL  McCain, John  republican   \n",
       "1  2008      Alaska           AK  McCain, John  republican   \n",
       "2  2008     Arizona           AZ  McCain, John  republican   \n",
       "3  2008    Arkansas           AR  McCain, John  republican   \n",
       "4  2008  California           CA  McCain, John  republican   \n",
       "\n",
       "   candidatevotes_Rep state_po_Dem     candidate_Dem party_Dem  \\\n",
       "0             1266546           AL  Obama, Barack H.  democrat   \n",
       "1              193841           AK  Obama, Barack H.  democrat   \n",
       "2             1230111           AZ  Obama, Barack H.  democrat   \n",
       "3              638017           AR  Obama, Barack H.  democrat   \n",
       "4             5011781           CA  Obama, Barack H.  democrat   \n",
       "\n",
       "   candidatevotes_Dem  totalvotes           Place Name   Latitude   Longitude  \n",
       "0              813479     2099819         Alabama, USA  32.318230  -86.902298  \n",
       "1              123594      326197          Alaska, USA  66.160507 -153.369141  \n",
       "2             1034707     2293475         Arizona, USA  34.048927 -111.093735  \n",
       "3              422310     1086617     Arkansas, the US  34.799999  -92.199997  \n",
       "4             8274473    13561900  California, the USA  36.778259 -119.417931  "
      ],
      "text/html": "<div>\n<style scoped>\n    .dataframe tbody tr th:only-of-type {\n        vertical-align: middle;\n    }\n\n    .dataframe tbody tr th {\n        vertical-align: top;\n    }\n\n    .dataframe thead th {\n        text-align: right;\n    }\n</style>\n<table border=\"1\" class=\"dataframe\">\n  <thead>\n    <tr style=\"text-align: right;\">\n      <th></th>\n      <th>year</th>\n      <th>state</th>\n      <th>state_po_Rep</th>\n      <th>candidate_Rep</th>\n      <th>party_Rep</th>\n      <th>candidatevotes_Rep</th>\n      <th>state_po_Dem</th>\n      <th>candidate_Dem</th>\n      <th>party_Dem</th>\n      <th>candidatevotes_Dem</th>\n      <th>totalvotes</th>\n      <th>Place Name</th>\n      <th>Latitude</th>\n      <th>Longitude</th>\n    </tr>\n  </thead>\n  <tbody>\n    <tr>\n      <th>0</th>\n      <td>2008</td>\n      <td>Alabama</td>\n      <td>AL</td>\n      <td>McCain, John</td>\n      <td>republican</td>\n      <td>1266546</td>\n      <td>AL</td>\n      <td>Obama, Barack H.</td>\n      <td>democrat</td>\n      <td>813479</td>\n      <td>2099819</td>\n      <td>Alabama, USA</td>\n      <td>32.318230</td>\n      <td>-86.902298</td>\n    </tr>\n    <tr>\n      <th>1</th>\n      <td>2008</td>\n      <td>Alaska</td>\n      <td>AK</td>\n      <td>McCain, John</td>\n      <td>republican</td>\n      <td>193841</td>\n      <td>AK</td>\n      <td>Obama, Barack H.</td>\n      <td>democrat</td>\n      <td>123594</td>\n      <td>326197</td>\n      <td>Alaska, USA</td>\n      <td>66.160507</td>\n      <td>-153.369141</td>\n    </tr>\n    <tr>\n      <th>2</th>\n      <td>2008</td>\n      <td>Arizona</td>\n      <td>AZ</td>\n      <td>McCain, John</td>\n      <td>republican</td>\n      <td>1230111</td>\n      <td>AZ</td>\n      <td>Obama, Barack H.</td>\n      <td>democrat</td>\n      <td>1034707</td>\n      <td>2293475</td>\n      <td>Arizona, USA</td>\n      <td>34.048927</td>\n      <td>-111.093735</td>\n    </tr>\n    <tr>\n      <th>3</th>\n      <td>2008</td>\n      <td>Arkansas</td>\n      <td>AR</td>\n      <td>McCain, John</td>\n      <td>republican</td>\n      <td>638017</td>\n      <td>AR</td>\n      <td>Obama, Barack H.</td>\n      <td>democrat</td>\n      <td>422310</td>\n      <td>1086617</td>\n      <td>Arkansas, the US</td>\n      <td>34.799999</td>\n      <td>-92.199997</td>\n    </tr>\n    <tr>\n      <th>4</th>\n      <td>2008</td>\n      <td>California</td>\n      <td>CA</td>\n      <td>McCain, John</td>\n      <td>republican</td>\n      <td>5011781</td>\n      <td>CA</td>\n      <td>Obama, Barack H.</td>\n      <td>democrat</td>\n      <td>8274473</td>\n      <td>13561900</td>\n      <td>California, the USA</td>\n      <td>36.778259</td>\n      <td>-119.417931</td>\n    </tr>\n  </tbody>\n</table>\n</div>"
     },
     "metadata": {},
     "execution_count": 99
    }
   ],
   "source": [
    "lat_long_2008 = pd.merge(merge_df_2008, lat_long, on=\"state_po_Rep\")\n",
    "lat_long_2008.head()"
   ]
  },
  {
   "cell_type": "code",
   "execution_count": 100,
   "metadata": {},
   "outputs": [
    {
     "output_type": "execute_result",
     "data": {
      "text/plain": [
       "   year       state state_po_Rep candidate_Rep   party_Rep  \\\n",
       "0  2012     Alabama           AL  Romney, Mitt  republican   \n",
       "1  2012      Alaska           AK  Romney, Mitt  republican   \n",
       "2  2012     Arizona           AZ  Romney, Mitt  republican   \n",
       "3  2012    Arkansas           AR  Romney, Mitt  republican   \n",
       "4  2012  California           CA  Romney, Mitt  republican   \n",
       "\n",
       "   candidatevotes_Rep state_po_Dem     candidate_Dem party_Dem  \\\n",
       "0             1255925           AL  Obama, Barack H.  democrat   \n",
       "1              164676           AK  Obama, Barack H.  democrat   \n",
       "2             1233654           AZ  Obama, Barack H.  democrat   \n",
       "3              647744           AR  Obama, Barack H.  democrat   \n",
       "4             4839958           CA  Obama, Barack H.  democrat   \n",
       "\n",
       "   candidatevotes_Dem  totalvotes           Place Name   Latitude   Longitude  \n",
       "0              795696     2074338         Alabama, USA  32.318230  -86.902298  \n",
       "1              122640      300495          Alaska, USA  66.160507 -153.369141  \n",
       "2             1025232     2299254         Arizona, USA  34.048927 -111.093735  \n",
       "3              394409     1069468     Arkansas, the US  34.799999  -92.199997  \n",
       "4             7854285    13038547  California, the USA  36.778259 -119.417931  "
      ],
      "text/html": "<div>\n<style scoped>\n    .dataframe tbody tr th:only-of-type {\n        vertical-align: middle;\n    }\n\n    .dataframe tbody tr th {\n        vertical-align: top;\n    }\n\n    .dataframe thead th {\n        text-align: right;\n    }\n</style>\n<table border=\"1\" class=\"dataframe\">\n  <thead>\n    <tr style=\"text-align: right;\">\n      <th></th>\n      <th>year</th>\n      <th>state</th>\n      <th>state_po_Rep</th>\n      <th>candidate_Rep</th>\n      <th>party_Rep</th>\n      <th>candidatevotes_Rep</th>\n      <th>state_po_Dem</th>\n      <th>candidate_Dem</th>\n      <th>party_Dem</th>\n      <th>candidatevotes_Dem</th>\n      <th>totalvotes</th>\n      <th>Place Name</th>\n      <th>Latitude</th>\n      <th>Longitude</th>\n    </tr>\n  </thead>\n  <tbody>\n    <tr>\n      <th>0</th>\n      <td>2012</td>\n      <td>Alabama</td>\n      <td>AL</td>\n      <td>Romney, Mitt</td>\n      <td>republican</td>\n      <td>1255925</td>\n      <td>AL</td>\n      <td>Obama, Barack H.</td>\n      <td>democrat</td>\n      <td>795696</td>\n      <td>2074338</td>\n      <td>Alabama, USA</td>\n      <td>32.318230</td>\n      <td>-86.902298</td>\n    </tr>\n    <tr>\n      <th>1</th>\n      <td>2012</td>\n      <td>Alaska</td>\n      <td>AK</td>\n      <td>Romney, Mitt</td>\n      <td>republican</td>\n      <td>164676</td>\n      <td>AK</td>\n      <td>Obama, Barack H.</td>\n      <td>democrat</td>\n      <td>122640</td>\n      <td>300495</td>\n      <td>Alaska, USA</td>\n      <td>66.160507</td>\n      <td>-153.369141</td>\n    </tr>\n    <tr>\n      <th>2</th>\n      <td>2012</td>\n      <td>Arizona</td>\n      <td>AZ</td>\n      <td>Romney, Mitt</td>\n      <td>republican</td>\n      <td>1233654</td>\n      <td>AZ</td>\n      <td>Obama, Barack H.</td>\n      <td>democrat</td>\n      <td>1025232</td>\n      <td>2299254</td>\n      <td>Arizona, USA</td>\n      <td>34.048927</td>\n      <td>-111.093735</td>\n    </tr>\n    <tr>\n      <th>3</th>\n      <td>2012</td>\n      <td>Arkansas</td>\n      <td>AR</td>\n      <td>Romney, Mitt</td>\n      <td>republican</td>\n      <td>647744</td>\n      <td>AR</td>\n      <td>Obama, Barack H.</td>\n      <td>democrat</td>\n      <td>394409</td>\n      <td>1069468</td>\n      <td>Arkansas, the US</td>\n      <td>34.799999</td>\n      <td>-92.199997</td>\n    </tr>\n    <tr>\n      <th>4</th>\n      <td>2012</td>\n      <td>California</td>\n      <td>CA</td>\n      <td>Romney, Mitt</td>\n      <td>republican</td>\n      <td>4839958</td>\n      <td>CA</td>\n      <td>Obama, Barack H.</td>\n      <td>democrat</td>\n      <td>7854285</td>\n      <td>13038547</td>\n      <td>California, the USA</td>\n      <td>36.778259</td>\n      <td>-119.417931</td>\n    </tr>\n  </tbody>\n</table>\n</div>"
     },
     "metadata": {},
     "execution_count": 100
    }
   ],
   "source": [
    "lat_long_2012 = pd.merge(merge_df_2012, lat_long, on=\"state_po_Rep\")\n",
    "lat_long_2012.head()"
   ]
  },
  {
   "cell_type": "code",
   "execution_count": 101,
   "metadata": {},
   "outputs": [
    {
     "output_type": "execute_result",
     "data": {
      "text/plain": [
       "   year       state state_po_Rep     candidate_Rep   party_Rep  \\\n",
       "0  2016     Alabama           AL  Trump, Donald J.  republican   \n",
       "1  2016      Alaska           AK  Trump, Donald J.  republican   \n",
       "2  2016     Arizona           AZ  Trump, Donald J.  republican   \n",
       "3  2016    Arkansas           AR  Trump, Donald J.  republican   \n",
       "4  2016  California           CA  Trump, Donald J.  republican   \n",
       "\n",
       "   candidatevotes_Rep state_po_Dem     candidate_Dem party_Dem  \\\n",
       "0             1318255           AL  Clinton, Hillary  democrat   \n",
       "1              163387           AK  Clinton, Hillary  democrat   \n",
       "2             1252401           AZ  Clinton, Hillary  democrat   \n",
       "3              684872           AR  Clinton, Hillary  democrat   \n",
       "4             4483810           CA  Clinton, Hillary  democrat   \n",
       "\n",
       "   candidatevotes_Dem  totalvotes           Place Name   Latitude   Longitude  \n",
       "0              729547     2123372         Alabama, USA  32.318230  -86.902298  \n",
       "1              116454      318608          Alaska, USA  66.160507 -153.369141  \n",
       "2             1161167     2573165         Arizona, USA  34.048927 -111.093735  \n",
       "3              380494     1130635     Arkansas, the US  34.799999  -92.199997  \n",
       "4             8753788    14181595  California, the USA  36.778259 -119.417931  "
      ],
      "text/html": "<div>\n<style scoped>\n    .dataframe tbody tr th:only-of-type {\n        vertical-align: middle;\n    }\n\n    .dataframe tbody tr th {\n        vertical-align: top;\n    }\n\n    .dataframe thead th {\n        text-align: right;\n    }\n</style>\n<table border=\"1\" class=\"dataframe\">\n  <thead>\n    <tr style=\"text-align: right;\">\n      <th></th>\n      <th>year</th>\n      <th>state</th>\n      <th>state_po_Rep</th>\n      <th>candidate_Rep</th>\n      <th>party_Rep</th>\n      <th>candidatevotes_Rep</th>\n      <th>state_po_Dem</th>\n      <th>candidate_Dem</th>\n      <th>party_Dem</th>\n      <th>candidatevotes_Dem</th>\n      <th>totalvotes</th>\n      <th>Place Name</th>\n      <th>Latitude</th>\n      <th>Longitude</th>\n    </tr>\n  </thead>\n  <tbody>\n    <tr>\n      <th>0</th>\n      <td>2016</td>\n      <td>Alabama</td>\n      <td>AL</td>\n      <td>Trump, Donald J.</td>\n      <td>republican</td>\n      <td>1318255</td>\n      <td>AL</td>\n      <td>Clinton, Hillary</td>\n      <td>democrat</td>\n      <td>729547</td>\n      <td>2123372</td>\n      <td>Alabama, USA</td>\n      <td>32.318230</td>\n      <td>-86.902298</td>\n    </tr>\n    <tr>\n      <th>1</th>\n      <td>2016</td>\n      <td>Alaska</td>\n      <td>AK</td>\n      <td>Trump, Donald J.</td>\n      <td>republican</td>\n      <td>163387</td>\n      <td>AK</td>\n      <td>Clinton, Hillary</td>\n      <td>democrat</td>\n      <td>116454</td>\n      <td>318608</td>\n      <td>Alaska, USA</td>\n      <td>66.160507</td>\n      <td>-153.369141</td>\n    </tr>\n    <tr>\n      <th>2</th>\n      <td>2016</td>\n      <td>Arizona</td>\n      <td>AZ</td>\n      <td>Trump, Donald J.</td>\n      <td>republican</td>\n      <td>1252401</td>\n      <td>AZ</td>\n      <td>Clinton, Hillary</td>\n      <td>democrat</td>\n      <td>1161167</td>\n      <td>2573165</td>\n      <td>Arizona, USA</td>\n      <td>34.048927</td>\n      <td>-111.093735</td>\n    </tr>\n    <tr>\n      <th>3</th>\n      <td>2016</td>\n      <td>Arkansas</td>\n      <td>AR</td>\n      <td>Trump, Donald J.</td>\n      <td>republican</td>\n      <td>684872</td>\n      <td>AR</td>\n      <td>Clinton, Hillary</td>\n      <td>democrat</td>\n      <td>380494</td>\n      <td>1130635</td>\n      <td>Arkansas, the US</td>\n      <td>34.799999</td>\n      <td>-92.199997</td>\n    </tr>\n    <tr>\n      <th>4</th>\n      <td>2016</td>\n      <td>California</td>\n      <td>CA</td>\n      <td>Trump, Donald J.</td>\n      <td>republican</td>\n      <td>4483810</td>\n      <td>CA</td>\n      <td>Clinton, Hillary</td>\n      <td>democrat</td>\n      <td>8753788</td>\n      <td>14181595</td>\n      <td>California, the USA</td>\n      <td>36.778259</td>\n      <td>-119.417931</td>\n    </tr>\n  </tbody>\n</table>\n</div>"
     },
     "metadata": {},
     "execution_count": 101
    }
   ],
   "source": [
    "lat_long_2016 = pd.merge(merge_df_2016, lat_long, on=\"state_po_Rep\")\n",
    "lat_long_2016.head()"
   ]
  },
  {
   "cell_type": "code",
   "execution_count": 102,
   "metadata": {},
   "outputs": [],
   "source": [
    "lat_long_2000.to_csv('lat_long_2000.csv')"
   ]
  },
  {
   "cell_type": "code",
   "execution_count": 103,
   "metadata": {},
   "outputs": [],
   "source": [
    "lat_long_2004.to_csv('lat_long_2004.csv')"
   ]
  },
  {
   "cell_type": "code",
   "execution_count": 104,
   "metadata": {},
   "outputs": [],
   "source": [
    "lat_long_2008.to_csv('lat_long_2008.csv')"
   ]
  },
  {
   "cell_type": "code",
   "execution_count": 105,
   "metadata": {},
   "outputs": [],
   "source": [
    "lat_long_2012.to_csv('lat_long_2012.csv')"
   ]
  },
  {
   "cell_type": "code",
   "execution_count": 106,
   "metadata": {},
   "outputs": [],
   "source": [
    "lat_long_2016.to_csv('lat_long_2016.csv')"
   ]
  },
  {
   "cell_type": "code",
   "execution_count": 9,
   "metadata": {},
   "outputs": [],
   "source": [
    "# Segun add db connection here \n",
    "#JZ work stops here"
   ]
  },
  {
   "source": [
    "Dataframe to Postgres"
   ],
   "cell_type": "markdown",
   "metadata": {}
  }
 ]
}